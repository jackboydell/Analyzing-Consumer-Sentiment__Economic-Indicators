{
 "cells": [
  {
   "cell_type": "markdown",
   "metadata": {},
   "source": [
    "## Analyzing Consumer Sentiment of Future Trends in the Economy  \n",
    "### Jack Boydell, David Richardson, Madeline Van Slyke, Alex Bamberger\n",
    "### Willamette University, CS 475, Professor Cheng"
   ]
  },
  {
   "cell_type": "markdown",
   "metadata": {},
   "source": [
    "Importing necessary packages, heavy use of sklearn."
   ]
  },
  {
   "cell_type": "code",
   "execution_count": 378,
   "metadata": {},
   "outputs": [],
   "source": [
    "import pandas as pd\n",
    "import numpy as np \n",
    "from scipy.spatial.distance import cdist\n",
    "\n",
    "import matplotlib.pyplot as plt\n",
    "from mpl_toolkits.mplot3d import Axes3D\n",
    "import seaborn as sns\n",
    "\n",
    "from sklearn.model_selection import train_test_split, GridSearchCV, cross_val_score\n",
    "from sklearn.metrics import accuracy_score, mean_squared_error as MSE, roc_auc_score, confusion_matrix, classification_report\n",
    "from sklearn.metrics import roc_curve, silhouette_score\n",
    "from sklearn.linear_model import LogisticRegression\n",
    "from sklearn.tree import DecisionTreeClassifier\n",
    "from sklearn.svm import SVC, OneClassSVM\n",
    "from sklearn.preprocessing import StandardScaler\n",
    "from sklearn.pipeline import Pipeline\n",
    "from sklearn.ensemble import BaggingClassifier, GradientBoostingClassifier, VotingClassifier, AdaBoostClassifier\n",
    "from sklearn.cluster import KMeans, DBSCAN "
   ]
  },
  {
   "cell_type": "markdown",
   "metadata": {},
   "source": [
    "Setting the style for visulizations and plots."
   ]
  },
  {
   "cell_type": "code",
   "execution_count": 379,
   "metadata": {},
   "outputs": [],
   "source": [
    "plt.style.use('seaborn-whitegrid') "
   ]
  },
  {
   "cell_type": "markdown",
   "metadata": {},
   "source": [
    "#### Our analysis involved two avenues of classification tasks: 1) change in unemployment rates analysis, 2) change in interest rates analysis."
   ]
  },
  {
   "cell_type": "markdown",
   "metadata": {},
   "source": [
    "### Unemployment Rates Analysis"
   ]
  },
  {
   "cell_type": "code",
   "execution_count": 380,
   "metadata": {},
   "outputs": [
    {
     "data": {
      "text/html": [
       "<div>\n",
       "<style scoped>\n",
       "    .dataframe tbody tr th:only-of-type {\n",
       "        vertical-align: middle;\n",
       "    }\n",
       "\n",
       "    .dataframe tbody tr th {\n",
       "        vertical-align: top;\n",
       "    }\n",
       "\n",
       "    .dataframe thead th {\n",
       "        text-align: right;\n",
       "    }\n",
       "</style>\n",
       "<table border=\"1\" class=\"dataframe\">\n",
       "  <thead>\n",
       "    <tr style=\"text-align: right;\">\n",
       "      <th></th>\n",
       "      <th>date</th>\n",
       "      <th>year</th>\n",
       "      <th>month</th>\n",
       "      <th>go_up</th>\n",
       "      <th>stay_same</th>\n",
       "      <th>go_down</th>\n",
       "      <th>dk_na</th>\n",
       "      <th>relative</th>\n",
       "      <th>year.1</th>\n",
       "      <th>month.1</th>\n",
       "      <th>unemployment_rate</th>\n",
       "      <th>one_month_net_change</th>\n",
       "      <th>twelve_month_net_change</th>\n",
       "      <th>one_month_percent_change</th>\n",
       "      <th>twelve_month_percent_change</th>\n",
       "    </tr>\n",
       "  </thead>\n",
       "  <tbody>\n",
       "    <tr>\n",
       "      <td>0</td>\n",
       "      <td>1978-01-31</td>\n",
       "      <td>1978</td>\n",
       "      <td>1</td>\n",
       "      <td>20</td>\n",
       "      <td>48</td>\n",
       "      <td>30</td>\n",
       "      <td>2</td>\n",
       "      <td>90</td>\n",
       "      <td>1979</td>\n",
       "      <td>1</td>\n",
       "      <td>5.9</td>\n",
       "      <td>-0.1</td>\n",
       "      <td>-0.5</td>\n",
       "      <td>-1.7</td>\n",
       "      <td>-7.8</td>\n",
       "    </tr>\n",
       "    <tr>\n",
       "      <td>1</td>\n",
       "      <td>1978-02-28</td>\n",
       "      <td>1978</td>\n",
       "      <td>2</td>\n",
       "      <td>30</td>\n",
       "      <td>41</td>\n",
       "      <td>24</td>\n",
       "      <td>5</td>\n",
       "      <td>106</td>\n",
       "      <td>1979</td>\n",
       "      <td>2</td>\n",
       "      <td>5.9</td>\n",
       "      <td>0.0</td>\n",
       "      <td>-0.4</td>\n",
       "      <td>0.0</td>\n",
       "      <td>-6.3</td>\n",
       "    </tr>\n",
       "    <tr>\n",
       "      <td>2</td>\n",
       "      <td>1978-03-31</td>\n",
       "      <td>1978</td>\n",
       "      <td>3</td>\n",
       "      <td>14</td>\n",
       "      <td>52</td>\n",
       "      <td>31</td>\n",
       "      <td>3</td>\n",
       "      <td>83</td>\n",
       "      <td>1979</td>\n",
       "      <td>3</td>\n",
       "      <td>5.8</td>\n",
       "      <td>-0.1</td>\n",
       "      <td>-0.5</td>\n",
       "      <td>-1.7</td>\n",
       "      <td>-7.9</td>\n",
       "    </tr>\n",
       "    <tr>\n",
       "      <td>3</td>\n",
       "      <td>1978-04-30</td>\n",
       "      <td>1978</td>\n",
       "      <td>4</td>\n",
       "      <td>17</td>\n",
       "      <td>56</td>\n",
       "      <td>25</td>\n",
       "      <td>2</td>\n",
       "      <td>92</td>\n",
       "      <td>1979</td>\n",
       "      <td>4</td>\n",
       "      <td>5.8</td>\n",
       "      <td>0.0</td>\n",
       "      <td>-0.3</td>\n",
       "      <td>0.0</td>\n",
       "      <td>-4.9</td>\n",
       "    </tr>\n",
       "    <tr>\n",
       "      <td>4</td>\n",
       "      <td>1978-05-31</td>\n",
       "      <td>1978</td>\n",
       "      <td>5</td>\n",
       "      <td>23</td>\n",
       "      <td>45</td>\n",
       "      <td>26</td>\n",
       "      <td>6</td>\n",
       "      <td>97</td>\n",
       "      <td>1979</td>\n",
       "      <td>5</td>\n",
       "      <td>5.6</td>\n",
       "      <td>-0.2</td>\n",
       "      <td>-0.4</td>\n",
       "      <td>-3.4</td>\n",
       "      <td>-6.7</td>\n",
       "    </tr>\n",
       "  </tbody>\n",
       "</table>\n",
       "</div>"
      ],
      "text/plain": [
       "         date  year  month  go_up  stay_same  go_down  dk_na  relative  \\\n",
       "0  1978-01-31  1978      1     20         48       30      2        90   \n",
       "1  1978-02-28  1978      2     30         41       24      5       106   \n",
       "2  1978-03-31  1978      3     14         52       31      3        83   \n",
       "3  1978-04-30  1978      4     17         56       25      2        92   \n",
       "4  1978-05-31  1978      5     23         45       26      6        97   \n",
       "\n",
       "   year.1  month.1  unemployment_rate  one_month_net_change  \\\n",
       "0    1979        1                5.9                  -0.1   \n",
       "1    1979        2                5.9                   0.0   \n",
       "2    1979        3                5.8                  -0.1   \n",
       "3    1979        4                5.8                   0.0   \n",
       "4    1979        5                5.6                  -0.2   \n",
       "\n",
       "   twelve_month_net_change  one_month_percent_change  \\\n",
       "0                     -0.5                      -1.7   \n",
       "1                     -0.4                       0.0   \n",
       "2                     -0.5                      -1.7   \n",
       "3                     -0.3                       0.0   \n",
       "4                     -0.4                      -3.4   \n",
       "\n",
       "   twelve_month_percent_change  \n",
       "0                         -7.8  \n",
       "1                         -6.3  \n",
       "2                         -7.9  \n",
       "3                         -4.9  \n",
       "4                         -6.7  "
      ]
     },
     "execution_count": 380,
     "metadata": {},
     "output_type": "execute_result"
    }
   ],
   "source": [
    "unemp_rates = pd.read_csv('/Users/jackboydell/Desktop/CS 475/Consumer Sentiment Project/unemployment_rates_final.csv')\n",
    "back_up_df = unemp_rates.copy()\n",
    "unemp_rates.head()"
   ]
  },
  {
   "cell_type": "code",
   "execution_count": 381,
   "metadata": {},
   "outputs": [
    {
     "name": "stdout",
     "output_type": "stream",
     "text": [
      "<class 'pandas.core.frame.DataFrame'>\n",
      "RangeIndex: 518 entries, 0 to 517\n",
      "Data columns (total 15 columns):\n",
      "date                           518 non-null object\n",
      "year                           518 non-null int64\n",
      "month                          518 non-null int64\n",
      "go_up                          518 non-null int64\n",
      "stay_same                      518 non-null int64\n",
      "go_down                        518 non-null int64\n",
      "dk_na                          518 non-null int64\n",
      "relative                       518 non-null int64\n",
      "year.1                         518 non-null int64\n",
      "month.1                        518 non-null int64\n",
      "unemployment_rate              518 non-null float64\n",
      "one_month_net_change           518 non-null float64\n",
      "twelve_month_net_change        518 non-null float64\n",
      "one_month_percent_change       518 non-null float64\n",
      "twelve_month_percent_change    518 non-null float64\n",
      "dtypes: float64(5), int64(9), object(1)\n",
      "memory usage: 60.8+ KB\n"
     ]
    }
   ],
   "source": [
    "unemp_rates.info()\n",
    "unemp_rates['date'] = pd.to_datetime(unemp_rates['date']) # changing full date column to Datetime object"
   ]
  },
  {
   "cell_type": "markdown",
   "metadata": {},
   "source": [
    "The function below takes a given dataframe and specified numerical column and converts into a binary category. This will be used for classifying the change in unemployment as positive or negative."
   ]
  },
  {
   "cell_type": "code",
   "execution_count": 382,
   "metadata": {},
   "outputs": [],
   "source": [
    "# calculating positive(0) or negative(1) one month net change and applying as a categorical variable \n",
    "# this can be repeated for other columns that we want to look at as a categoery\n",
    "def pos_neg_category(df, old_col_name, new_col_name):\n",
    "    '''\n",
    "    df: (Pandas DataFrame)\n",
    "    old_col_name: (name of numerical column to convert into a binary c)\n",
    "    new_col_name: (name to be assigned to new column created)\n",
    "    '''\n",
    "    lst = [] \n",
    "    for value in df[old_col_name]:\n",
    "        if value < 0:\n",
    "            lst.append(1)\n",
    "        else:\n",
    "            lst.append(0)\n",
    "            \n",
    "    df = pd.concat([df, pd.Series(lst, name=new_col_name)], axis=1)\n",
    "    df[new_col_name] = df[new_col_name].astype('category')\n",
    "    \n",
    "    return df"
   ]
  },
  {
   "cell_type": "code",
   "execution_count": 383,
   "metadata": {},
   "outputs": [
    {
     "data": {
      "text/html": [
       "<div>\n",
       "<style scoped>\n",
       "    .dataframe tbody tr th:only-of-type {\n",
       "        vertical-align: middle;\n",
       "    }\n",
       "\n",
       "    .dataframe tbody tr th {\n",
       "        vertical-align: top;\n",
       "    }\n",
       "\n",
       "    .dataframe thead th {\n",
       "        text-align: right;\n",
       "    }\n",
       "</style>\n",
       "<table border=\"1\" class=\"dataframe\">\n",
       "  <thead>\n",
       "    <tr style=\"text-align: right;\">\n",
       "      <th></th>\n",
       "      <th>date</th>\n",
       "      <th>year</th>\n",
       "      <th>month</th>\n",
       "      <th>go_up</th>\n",
       "      <th>stay_same</th>\n",
       "      <th>go_down</th>\n",
       "      <th>dk_na</th>\n",
       "      <th>relative</th>\n",
       "      <th>year.1</th>\n",
       "      <th>month.1</th>\n",
       "      <th>unemployment_rate</th>\n",
       "      <th>one_month_net_change</th>\n",
       "      <th>twelve_month_net_change</th>\n",
       "      <th>one_month_percent_change</th>\n",
       "      <th>twelve_month_percent_change</th>\n",
       "      <th>OMNC_cat</th>\n",
       "    </tr>\n",
       "  </thead>\n",
       "  <tbody>\n",
       "    <tr>\n",
       "      <td>0</td>\n",
       "      <td>1978-01-31</td>\n",
       "      <td>1978</td>\n",
       "      <td>1</td>\n",
       "      <td>20</td>\n",
       "      <td>48</td>\n",
       "      <td>30</td>\n",
       "      <td>2</td>\n",
       "      <td>90</td>\n",
       "      <td>1979</td>\n",
       "      <td>1</td>\n",
       "      <td>5.9</td>\n",
       "      <td>-0.1</td>\n",
       "      <td>-0.5</td>\n",
       "      <td>-1.7</td>\n",
       "      <td>-7.8</td>\n",
       "      <td>1</td>\n",
       "    </tr>\n",
       "    <tr>\n",
       "      <td>1</td>\n",
       "      <td>1978-02-28</td>\n",
       "      <td>1978</td>\n",
       "      <td>2</td>\n",
       "      <td>30</td>\n",
       "      <td>41</td>\n",
       "      <td>24</td>\n",
       "      <td>5</td>\n",
       "      <td>106</td>\n",
       "      <td>1979</td>\n",
       "      <td>2</td>\n",
       "      <td>5.9</td>\n",
       "      <td>0.0</td>\n",
       "      <td>-0.4</td>\n",
       "      <td>0.0</td>\n",
       "      <td>-6.3</td>\n",
       "      <td>0</td>\n",
       "    </tr>\n",
       "    <tr>\n",
       "      <td>2</td>\n",
       "      <td>1978-03-31</td>\n",
       "      <td>1978</td>\n",
       "      <td>3</td>\n",
       "      <td>14</td>\n",
       "      <td>52</td>\n",
       "      <td>31</td>\n",
       "      <td>3</td>\n",
       "      <td>83</td>\n",
       "      <td>1979</td>\n",
       "      <td>3</td>\n",
       "      <td>5.8</td>\n",
       "      <td>-0.1</td>\n",
       "      <td>-0.5</td>\n",
       "      <td>-1.7</td>\n",
       "      <td>-7.9</td>\n",
       "      <td>1</td>\n",
       "    </tr>\n",
       "    <tr>\n",
       "      <td>3</td>\n",
       "      <td>1978-04-30</td>\n",
       "      <td>1978</td>\n",
       "      <td>4</td>\n",
       "      <td>17</td>\n",
       "      <td>56</td>\n",
       "      <td>25</td>\n",
       "      <td>2</td>\n",
       "      <td>92</td>\n",
       "      <td>1979</td>\n",
       "      <td>4</td>\n",
       "      <td>5.8</td>\n",
       "      <td>0.0</td>\n",
       "      <td>-0.3</td>\n",
       "      <td>0.0</td>\n",
       "      <td>-4.9</td>\n",
       "      <td>0</td>\n",
       "    </tr>\n",
       "    <tr>\n",
       "      <td>4</td>\n",
       "      <td>1978-05-31</td>\n",
       "      <td>1978</td>\n",
       "      <td>5</td>\n",
       "      <td>23</td>\n",
       "      <td>45</td>\n",
       "      <td>26</td>\n",
       "      <td>6</td>\n",
       "      <td>97</td>\n",
       "      <td>1979</td>\n",
       "      <td>5</td>\n",
       "      <td>5.6</td>\n",
       "      <td>-0.2</td>\n",
       "      <td>-0.4</td>\n",
       "      <td>-3.4</td>\n",
       "      <td>-6.7</td>\n",
       "      <td>1</td>\n",
       "    </tr>\n",
       "  </tbody>\n",
       "</table>\n",
       "</div>"
      ],
      "text/plain": [
       "        date  year  month  go_up  stay_same  go_down  dk_na  relative  year.1  \\\n",
       "0 1978-01-31  1978      1     20         48       30      2        90    1979   \n",
       "1 1978-02-28  1978      2     30         41       24      5       106    1979   \n",
       "2 1978-03-31  1978      3     14         52       31      3        83    1979   \n",
       "3 1978-04-30  1978      4     17         56       25      2        92    1979   \n",
       "4 1978-05-31  1978      5     23         45       26      6        97    1979   \n",
       "\n",
       "   month.1  unemployment_rate  one_month_net_change  twelve_month_net_change  \\\n",
       "0        1                5.9                  -0.1                     -0.5   \n",
       "1        2                5.9                   0.0                     -0.4   \n",
       "2        3                5.8                  -0.1                     -0.5   \n",
       "3        4                5.8                   0.0                     -0.3   \n",
       "4        5                5.6                  -0.2                     -0.4   \n",
       "\n",
       "   one_month_percent_change  twelve_month_percent_change OMNC_cat  \n",
       "0                      -1.7                         -7.8        1  \n",
       "1                       0.0                         -6.3        0  \n",
       "2                      -1.7                         -7.9        1  \n",
       "3                       0.0                         -4.9        0  \n",
       "4                      -3.4                         -6.7        1  "
      ]
     },
     "execution_count": 383,
     "metadata": {},
     "output_type": "execute_result"
    }
   ],
   "source": [
    "# utilizing the function above on unemp_rates dataframe\n",
    "unemp_rates = pos_neg_category(unemp_rates, 'one_month_net_change', 'OMNC_cat')\n",
    "unemp_rates.head()"
   ]
  },
  {
   "cell_type": "code",
   "execution_count": 384,
   "metadata": {},
   "outputs": [
    {
     "name": "stdout",
     "output_type": "stream",
     "text": [
      "3.5 14.7\n"
     ]
    }
   ],
   "source": [
    "# minimum and maximum unemployment rates in our data \n",
    "min_ = unemp_rates['unemployment_rate'].min()\n",
    "max_ = unemp_rates['unemployment_rate'].max()\n",
    "print(min_, max_)"
   ]
  },
  {
   "cell_type": "markdown",
   "metadata": {},
   "source": [
    "The following code prepares and executes a time-series visualization for exploratory data analysis (EDA)."
   ]
  },
  {
   "cell_type": "code",
   "execution_count": 385,
   "metadata": {},
   "outputs": [],
   "source": [
    "ordered_dec = unemp_rates.sort_values('go_down', ascending=False)\n",
    "viz_date = '2009-02-28'\n",
    "viz_row = unemp_rates.loc[unemp_rates['date'] == '2009-02-28']"
   ]
  },
  {
   "cell_type": "code",
   "execution_count": 386,
   "metadata": {},
   "outputs": [
    {
     "data": {
      "image/png": "[encoded data removed]",
      "text/plain": [
       "<Figure size 432x288 with 2 Axes>"
      ]
     },
     "metadata": {},
     "output_type": "display_data"
    }
   ],
   "source": [
    "#time series visualization \n",
    "fig, ax1 = plt.subplots()\n",
    "plt.title('Survey Responses (Decrease) vs. Actual Unemployment Rate')\n",
    "ax1.set_xlabel('Date')\n",
    "ax1.set_ylabel('Unemployment Rate', c = 'black')\n",
    "ax1.plot('date', 'unemployment_rate', data = unemp_rates, c='black')\n",
    "ax1.plot(viz_row['date'], viz_row['unemployment_rate'], marker = 'o', c='red')\n",
    "ax1.axvline(x=viz_row['date'], c='red', ls='--')\n",
    "\n",
    "\n",
    "ax2 = ax1.twinx()\n",
    "ax2.set_ylabel('Decrease, go_down (Responses)', c='blue')\n",
    "ax2.plot('date', 'go_down', data=unemp_rates, c='blue')\n",
    "ax2.plot(viz_row['date'], viz_row['go_down'], marker = 'o', c='red')\n",
    "\n",
    "plt.show()"
   ]
  },
  {
   "cell_type": "code",
   "execution_count": 387,
   "metadata": {},
   "outputs": [
    {
     "data": {
      "image/png": "[encoded data removed]",
      "text/plain": [
       "<Figure size 1440x504 with 6 Axes>"
      ]
     },
     "metadata": {},
     "output_type": "display_data"
    }
   ],
   "source": [
    "# distributions of survey columns\n",
    "dist_columns = ['go_up', 'stay_same', 'go_down', 'dk_na', 'relative']\n",
    "unemp_rates[dist_columns].hist(bins = 50, figsize=(20,7))\n",
    "plt.show()"
   ]
  },
  {
   "cell_type": "markdown",
   "metadata": {},
   "source": [
    "### One Month Net Change Category (OMNC cat) as target variable \n",
    "consider going through mutliclass classification: positive, 0, negative"
   ]
  },
  {
   "cell_type": "code",
   "execution_count": 388,
   "metadata": {},
   "outputs": [
    {
     "name": "stdout",
     "output_type": "stream",
     "text": [
      "Column Variances:\n",
      "go_up         58.028144\n",
      "stay_same     68.434378\n",
      "go_down      119.609777\n",
      "dk_na          0.951584\n",
      "relative     285.565521\n",
      "dtype: float64\n"
     ]
    }
   ],
   "source": [
    "# preparing X, y for model fitting\n",
    "X = unemp_rates.loc[:, ['go_up', 'stay_same', 'go_down', 'dk_na', 'relative']]\n",
    "print(f'Column Variances:\\n{X.var()}') # looking at variances, do we need to impose a standard scale?\n",
    "\n",
    "y = unemp_rates['OMNC_cat'].to_numpy()\n",
    "X = X.to_numpy()"
   ]
  },
  {
   "cell_type": "code",
   "execution_count": 389,
   "metadata": {},
   "outputs": [],
   "source": [
    "# creating training and testing sets \n",
    "X_train, X_test, y_train, y_test = train_test_split(X, y, test_size = 0.2, stratify=y, random_state = 21)"
   ]
  },
  {
   "cell_type": "code",
   "execution_count": 390,
   "metadata": {},
   "outputs": [
    {
     "name": "stdout",
     "output_type": "stream",
     "text": [
      "Accuracy score: 0.6153846153846154\n",
      "ROC-AUC score: 0.5327868852459017\n"
     ]
    }
   ],
   "source": [
    "# testing out basic LogisitcRegression as a classifier\n",
    "logreg = LogisticRegression(solver = 'liblinear')\n",
    "logreg.fit(X_train, y_train)\n",
    "y_pred = logreg.predict(X_test)\n",
    "print(f'Accuracy score: {accuracy_score(y_pred, y_test)}')\n",
    "y_pred_proba = logreg.predict_proba(X_test)[:,1]\n",
    "print(f'ROC-AUC score: {roc_auc_score(y_test, y_pred_proba)}') # think about plotting ROC-AUC scores for each C, or other hyperparameter"
   ]
  },
  {
   "cell_type": "code",
   "execution_count": 391,
   "metadata": {},
   "outputs": [
    {
     "name": "stdout",
     "output_type": "stream",
     "text": [
      "{'C': 0.001, 'penalty': 'l1'}\n"
     ]
    },
    {
     "data": {
      "text/plain": [
       "0.5893719806763285"
      ]
     },
     "execution_count": 391,
     "metadata": {},
     "output_type": "execute_result"
    }
   ],
   "source": [
    "# GridSearchCV for basic LogisitcRegression \n",
    "params = {'C':[0.001, 0.01, 0.1, 1, 10, 100], 'penalty':['l1', 'l2']}\n",
    "\n",
    "grid_search = GridSearchCV(logreg, param_grid=params, cv=5)\n",
    "grid_search.fit(X_train, y_train)\n",
    "print(grid_search.best_params_)\n",
    "grid_search.best_score_"
   ]
  },
  {
   "cell_type": "code",
   "execution_count": 392,
   "metadata": {},
   "outputs": [
    {
     "data": {
      "text/plain": [
       "0.5865384615384616"
      ]
     },
     "execution_count": 392,
     "metadata": {},
     "output_type": "execute_result"
    }
   ],
   "source": [
    "# Linear SVM Classifier\n",
    "scaler = StandardScaler()\n",
    "lin_svm_clf = SVC(kernel='linear', C=100)\n",
    "\n",
    "scaled_svc = Pipeline([('scaler', scaler), ('linear_svc', lin_svm_clf)])\n",
    "scaled_svc.fit(X_train, y_train)\n",
    "y_pred = scaled_svc.predict(X_test)\n",
    "accuracy_score(y_pred, y_test)"
   ]
  },
  {
   "cell_type": "code",
   "execution_count": 393,
   "metadata": {},
   "outputs": [
    {
     "data": {
      "text/plain": [
       "0.5673076923076923"
      ]
     },
     "execution_count": 393,
     "metadata": {},
     "output_type": "execute_result"
    }
   ],
   "source": [
    "# Decision Trees Classifier\n",
    "dt_clf = DecisionTreeClassifier(criterion='entropy', max_depth = 4, random_state=21)\n",
    "dt_clf.fit(X_train, y_train)\n",
    "y_pred = dt_clf.predict(X_test)\n",
    "accuracy_score(y_pred, y_test)"
   ]
  },
  {
   "cell_type": "code",
   "execution_count": 394,
   "metadata": {},
   "outputs": [
    {
     "data": {
      "text/plain": [
       "array([0.55421687, 0.57831325, 0.57831325, 0.53012048, 0.54878049])"
      ]
     },
     "execution_count": 394,
     "metadata": {},
     "output_type": "execute_result"
    }
   ],
   "source": [
    "#cross validation for decision tree classifier\n",
    "cross_val_score(dt_clf, X_train, y_train, cv=5)"
   ]
  },
  {
   "cell_type": "code",
   "execution_count": 395,
   "metadata": {},
   "outputs": [
    {
     "name": "stdout",
     "output_type": "stream",
     "text": [
      "0.5480769230769231\n"
     ]
    },
    {
     "name": "stderr",
     "output_type": "stream",
     "text": [
      "/opt/anaconda3/lib/python3.7/site-packages/sklearn/ensemble/bagging.py:611: UserWarning: Some inputs do not have OOB scores. This probably means too few estimators were used to compute any reliable oob estimates.\n",
      "  warn(\"Some inputs do not have OOB scores. \"\n",
      "/opt/anaconda3/lib/python3.7/site-packages/sklearn/ensemble/bagging.py:616: RuntimeWarning: invalid value encountered in true_divide\n",
      "  predictions.sum(axis=1)[:, np.newaxis])\n"
     ]
    },
    {
     "data": {
      "text/plain": [
       "0.5434782608695652"
      ]
     },
     "execution_count": 395,
     "metadata": {},
     "output_type": "execute_result"
    }
   ],
   "source": [
    "# Bagging Classifier with base model of dt_clf\n",
    "dt_bag_clf = BaggingClassifier(base_estimator=dt_clf, n_estimators = 10, n_jobs=-1, oob_score = True, random_state=21)\n",
    "dt_bag_clf.fit(X_train, y_train)\n",
    "y_pred = dt_bag_clf.predict(X_test)\n",
    "print(accuracy_score(y_pred, y_test))\n",
    "dt_bag_clf.oob_score_"
   ]
  },
  {
   "cell_type": "code",
   "execution_count": 396,
   "metadata": {},
   "outputs": [
    {
     "data": {
      "text/plain": [
       "0.5192307692307693"
      ]
     },
     "execution_count": 396,
     "metadata": {},
     "output_type": "execute_result"
    }
   ],
   "source": [
    "# Gradient Boosting Classifier with \n",
    "gb_clf = GradientBoostingClassifier()\n",
    "gb_clf.fit(X_train, y_train)\n",
    "y_pred = gb_clf.predict(X_test)\n",
    "gb_clf.score(X_test, y_test)"
   ]
  },
  {
   "cell_type": "markdown",
   "metadata": {},
   "source": [
    "### 12 Month Net Change (year_NC)"
   ]
  },
  {
   "cell_type": "code",
   "execution_count": 397,
   "metadata": {},
   "outputs": [
    {
     "data": {
      "text/html": [
       "<div>\n",
       "<style scoped>\n",
       "    .dataframe tbody tr th:only-of-type {\n",
       "        vertical-align: middle;\n",
       "    }\n",
       "\n",
       "    .dataframe tbody tr th {\n",
       "        vertical-align: top;\n",
       "    }\n",
       "\n",
       "    .dataframe thead th {\n",
       "        text-align: right;\n",
       "    }\n",
       "</style>\n",
       "<table border=\"1\" class=\"dataframe\">\n",
       "  <thead>\n",
       "    <tr style=\"text-align: right;\">\n",
       "      <th></th>\n",
       "      <th>date</th>\n",
       "      <th>year</th>\n",
       "      <th>month</th>\n",
       "      <th>go_up</th>\n",
       "      <th>stay_same</th>\n",
       "      <th>go_down</th>\n",
       "      <th>dk_na</th>\n",
       "      <th>relative</th>\n",
       "      <th>year.1</th>\n",
       "      <th>month.1</th>\n",
       "      <th>unemployment_rate</th>\n",
       "      <th>one_month_net_change</th>\n",
       "      <th>twelve_month_net_change</th>\n",
       "      <th>one_month_percent_change</th>\n",
       "      <th>twelve_month_percent_change</th>\n",
       "      <th>OMNC_cat</th>\n",
       "      <th>year_NC</th>\n",
       "    </tr>\n",
       "  </thead>\n",
       "  <tbody>\n",
       "    <tr>\n",
       "      <td>0</td>\n",
       "      <td>1978-01-31</td>\n",
       "      <td>1978</td>\n",
       "      <td>1</td>\n",
       "      <td>20</td>\n",
       "      <td>48</td>\n",
       "      <td>30</td>\n",
       "      <td>2</td>\n",
       "      <td>90</td>\n",
       "      <td>1979</td>\n",
       "      <td>1</td>\n",
       "      <td>5.9</td>\n",
       "      <td>-0.1</td>\n",
       "      <td>-0.5</td>\n",
       "      <td>-1.7</td>\n",
       "      <td>-7.8</td>\n",
       "      <td>1</td>\n",
       "      <td>1</td>\n",
       "    </tr>\n",
       "    <tr>\n",
       "      <td>1</td>\n",
       "      <td>1978-02-28</td>\n",
       "      <td>1978</td>\n",
       "      <td>2</td>\n",
       "      <td>30</td>\n",
       "      <td>41</td>\n",
       "      <td>24</td>\n",
       "      <td>5</td>\n",
       "      <td>106</td>\n",
       "      <td>1979</td>\n",
       "      <td>2</td>\n",
       "      <td>5.9</td>\n",
       "      <td>0.0</td>\n",
       "      <td>-0.4</td>\n",
       "      <td>0.0</td>\n",
       "      <td>-6.3</td>\n",
       "      <td>0</td>\n",
       "      <td>1</td>\n",
       "    </tr>\n",
       "    <tr>\n",
       "      <td>2</td>\n",
       "      <td>1978-03-31</td>\n",
       "      <td>1978</td>\n",
       "      <td>3</td>\n",
       "      <td>14</td>\n",
       "      <td>52</td>\n",
       "      <td>31</td>\n",
       "      <td>3</td>\n",
       "      <td>83</td>\n",
       "      <td>1979</td>\n",
       "      <td>3</td>\n",
       "      <td>5.8</td>\n",
       "      <td>-0.1</td>\n",
       "      <td>-0.5</td>\n",
       "      <td>-1.7</td>\n",
       "      <td>-7.9</td>\n",
       "      <td>1</td>\n",
       "      <td>1</td>\n",
       "    </tr>\n",
       "    <tr>\n",
       "      <td>3</td>\n",
       "      <td>1978-04-30</td>\n",
       "      <td>1978</td>\n",
       "      <td>4</td>\n",
       "      <td>17</td>\n",
       "      <td>56</td>\n",
       "      <td>25</td>\n",
       "      <td>2</td>\n",
       "      <td>92</td>\n",
       "      <td>1979</td>\n",
       "      <td>4</td>\n",
       "      <td>5.8</td>\n",
       "      <td>0.0</td>\n",
       "      <td>-0.3</td>\n",
       "      <td>0.0</td>\n",
       "      <td>-4.9</td>\n",
       "      <td>0</td>\n",
       "      <td>1</td>\n",
       "    </tr>\n",
       "    <tr>\n",
       "      <td>4</td>\n",
       "      <td>1978-05-31</td>\n",
       "      <td>1978</td>\n",
       "      <td>5</td>\n",
       "      <td>23</td>\n",
       "      <td>45</td>\n",
       "      <td>26</td>\n",
       "      <td>6</td>\n",
       "      <td>97</td>\n",
       "      <td>1979</td>\n",
       "      <td>5</td>\n",
       "      <td>5.6</td>\n",
       "      <td>-0.2</td>\n",
       "      <td>-0.4</td>\n",
       "      <td>-3.4</td>\n",
       "      <td>-6.7</td>\n",
       "      <td>1</td>\n",
       "      <td>1</td>\n",
       "    </tr>\n",
       "  </tbody>\n",
       "</table>\n",
       "</div>"
      ],
      "text/plain": [
       "        date  year  month  go_up  stay_same  go_down  dk_na  relative  year.1  \\\n",
       "0 1978-01-31  1978      1     20         48       30      2        90    1979   \n",
       "1 1978-02-28  1978      2     30         41       24      5       106    1979   \n",
       "2 1978-03-31  1978      3     14         52       31      3        83    1979   \n",
       "3 1978-04-30  1978      4     17         56       25      2        92    1979   \n",
       "4 1978-05-31  1978      5     23         45       26      6        97    1979   \n",
       "\n",
       "   month.1  unemployment_rate  one_month_net_change  twelve_month_net_change  \\\n",
       "0        1                5.9                  -0.1                     -0.5   \n",
       "1        2                5.9                   0.0                     -0.4   \n",
       "2        3                5.8                  -0.1                     -0.5   \n",
       "3        4                5.8                   0.0                     -0.3   \n",
       "4        5                5.6                  -0.2                     -0.4   \n",
       "\n",
       "   one_month_percent_change  twelve_month_percent_change OMNC_cat year_NC  \n",
       "0                      -1.7                         -7.8        1       1  \n",
       "1                       0.0                         -6.3        0       1  \n",
       "2                      -1.7                         -7.9        1       1  \n",
       "3                       0.0                         -4.9        0       1  \n",
       "4                      -3.4                         -6.7        1       1  "
      ]
     },
     "execution_count": 397,
     "metadata": {},
     "output_type": "execute_result"
    }
   ],
   "source": [
    "unemp_rates = pos_neg_category(unemp_rates, 'twelve_month_net_change', 'year_NC')\n",
    "unemp_rates.head() "
   ]
  },
  {
   "cell_type": "code",
   "execution_count": 398,
   "metadata": {},
   "outputs": [
    {
     "name": "stdout",
     "output_type": "stream",
     "text": [
      "Column Variances:\n",
      "go_up         58.028144\n",
      "stay_same     68.434378\n",
      "go_down      119.609777\n",
      "dk_na          0.951584\n",
      "relative     285.565521\n",
      "dtype: float64\n"
     ]
    }
   ],
   "source": [
    "# preparing X, y for model fitting\n",
    "X = unemp_rates.loc[:, ['go_up', 'stay_same', 'go_down', 'dk_na', 'relative']]\n",
    "print(f'Column Variances:\\n{X.var()}') # looking at variances, do we need to impose a standard scale?\n",
    "\n",
    "y = unemp_rates['OMNC_cat'].to_numpy()\n",
    "X = X.to_numpy()\n",
    "X_train, X_test, y_train, y_test = train_test_split(X, y, test_size = 0.2, stratify=y, random_state = 17)"
   ]
  },
  {
   "cell_type": "code",
   "execution_count": 399,
   "metadata": {},
   "outputs": [
    {
     "name": "stdout",
     "output_type": "stream",
     "text": [
      "Accuracy score: 0.6057692307692307\n",
      "ROC-AUC score: 0.6014105985512771\n"
     ]
    },
    {
     "name": "stderr",
     "output_type": "stream",
     "text": [
      "/opt/anaconda3/lib/python3.7/site-packages/sklearn/linear_model/logistic.py:432: FutureWarning: Default solver will be changed to 'lbfgs' in 0.22. Specify a solver to silence this warning.\n",
      "  FutureWarning)\n"
     ]
    },
    {
     "data": {
      "text/plain": [
       "array([[57,  4],\n",
       "       [37,  6]])"
      ]
     },
     "execution_count": 399,
     "metadata": {},
     "output_type": "execute_result"
    }
   ],
   "source": [
    "# testing out basic LogisitcRegression as a classifier\n",
    "logreg = LogisticRegression()\n",
    "logreg.fit(X_train, y_train)\n",
    "logreg_pred = logreg.predict(X_test)\n",
    "acc_score = logreg.score(X_test, y_test)\n",
    "print(f'Accuracy score: {acc_score}')\n",
    "y_pred_proba = logreg.predict_proba(X_test)[:,1]\n",
    "\n",
    "print(f'ROC-AUC score: {roc_auc_score(y_test, y_pred_proba)}') # think about plotting ROC-AUC scores for each C, or other hyperparameter\n",
    "\n",
    "cm = confusion_matrix(y_test, logreg_pred)\n",
    "cm"
   ]
  },
  {
   "cell_type": "markdown",
   "metadata": {},
   "source": [
    "Visualizing model classification performance."
   ]
  },
  {
   "cell_type": "code",
   "execution_count": 400,
   "metadata": {},
   "outputs": [
    {
     "name": "stdout",
     "output_type": "stream",
     "text": [
      "              precision    recall  f1-score   support\n",
      "\n",
      "           0       0.61      0.93      0.74        61\n",
      "           1       0.60      0.14      0.23        43\n",
      "\n",
      "    accuracy                           0.61       104\n",
      "   macro avg       0.60      0.54      0.48       104\n",
      "weighted avg       0.60      0.61      0.53       104\n",
      "\n"
     ]
    },
    {
     "data": {
      "image/png": "[encoded data removed]",
      "text/plain": [
       "<Figure size 504x360 with 2 Axes>"
      ]
     },
     "metadata": {},
     "output_type": "display_data"
    }
   ],
   "source": [
    "# visualizing LogisiticRegression confusion matrix heatmap\n",
    "class_report = classification_report(y_test, logreg_pred)\n",
    "print(class_report)\n",
    "\n",
    "plt.figure(figsize=(7,5))\n",
    "annotations = np.array([['True Positive (57)', 'False Negative (4)'], ['False Positive (37)', 'True Negative (6)']])\n",
    "annotations = annotations.reshape(2,2)\n",
    "sns.heatmap(cm, cmap = 'Blues_r', square=True, annot=annotations, fmt='')\n",
    "plt.ylabel('Actual label', fontsize=15)\n",
    "plt.xlabel('Predicted label', fontsize=15)\n",
    "plt.ylim([2, -0.5])\n",
    "plt.title('Confusion Matrix', fontsize = 17)\n",
    "plt.show()"
   ]
  },
  {
   "cell_type": "code",
   "execution_count": 401,
   "metadata": {},
   "outputs": [
    {
     "data": {
      "image/png": "[encoded data removed]",
      "text/plain": [
       "<Figure size 432x288 with 1 Axes>"
      ]
     },
     "metadata": {},
     "output_type": "display_data"
    }
   ],
   "source": [
    "# ROC Curve vs. 50-50 chance line\n",
    "fpr, tpr, thresholds = roc_curve(y_test, y_pred_proba)\n",
    "plt.plot(fpr, tpr, label='Model ROC curve', c='b')\n",
    "plt.plot([0,1], [0,1], ls = '--', c='r', label='50-50 chance')\n",
    "plt.title('ROC Curve vs. 50-50 Chance', fontsize=17)\n",
    "plt.xlabel('False Positive Rate (FPR)', fontsize=15)\n",
    "plt.ylabel('True Positive Rate (TPR)', fontsize=15)\n",
    "plt.legend(loc='upper left', fontsize=13)\n",
    "plt.show()"
   ]
  },
  {
   "cell_type": "code",
   "execution_count": 402,
   "metadata": {},
   "outputs": [
    {
     "name": "stderr",
     "output_type": "stream",
     "text": [
      "/opt/anaconda3/lib/python3.7/site-packages/sklearn/linear_model/logistic.py:432: FutureWarning: Default solver will be changed to 'lbfgs' in 0.22. Specify a solver to silence this warning.\n",
      "  FutureWarning)\n",
      "/opt/anaconda3/lib/python3.7/site-packages/sklearn/linear_model/logistic.py:432: FutureWarning: Default solver will be changed to 'lbfgs' in 0.22. Specify a solver to silence this warning.\n",
      "  FutureWarning)\n",
      "/opt/anaconda3/lib/python3.7/site-packages/sklearn/linear_model/logistic.py:432: FutureWarning: Default solver will be changed to 'lbfgs' in 0.22. Specify a solver to silence this warning.\n",
      "  FutureWarning)\n",
      "/opt/anaconda3/lib/python3.7/site-packages/sklearn/linear_model/logistic.py:432: FutureWarning: Default solver will be changed to 'lbfgs' in 0.22. Specify a solver to silence this warning.\n",
      "  FutureWarning)\n",
      "/opt/anaconda3/lib/python3.7/site-packages/sklearn/linear_model/logistic.py:432: FutureWarning: Default solver will be changed to 'lbfgs' in 0.22. Specify a solver to silence this warning.\n",
      "  FutureWarning)\n",
      "/opt/anaconda3/lib/python3.7/site-packages/sklearn/linear_model/logistic.py:432: FutureWarning: Default solver will be changed to 'lbfgs' in 0.22. Specify a solver to silence this warning.\n",
      "  FutureWarning)\n",
      "/opt/anaconda3/lib/python3.7/site-packages/sklearn/linear_model/logistic.py:432: FutureWarning: Default solver will be changed to 'lbfgs' in 0.22. Specify a solver to silence this warning.\n",
      "  FutureWarning)\n",
      "/opt/anaconda3/lib/python3.7/site-packages/sklearn/linear_model/logistic.py:432: FutureWarning: Default solver will be changed to 'lbfgs' in 0.22. Specify a solver to silence this warning.\n",
      "  FutureWarning)\n",
      "/opt/anaconda3/lib/python3.7/site-packages/sklearn/linear_model/logistic.py:432: FutureWarning: Default solver will be changed to 'lbfgs' in 0.22. Specify a solver to silence this warning.\n",
      "  FutureWarning)\n",
      "/opt/anaconda3/lib/python3.7/site-packages/sklearn/linear_model/logistic.py:432: FutureWarning: Default solver will be changed to 'lbfgs' in 0.22. Specify a solver to silence this warning.\n",
      "  FutureWarning)\n",
      "/opt/anaconda3/lib/python3.7/site-packages/sklearn/linear_model/logistic.py:432: FutureWarning: Default solver will be changed to 'lbfgs' in 0.22. Specify a solver to silence this warning.\n",
      "  FutureWarning)\n",
      "/opt/anaconda3/lib/python3.7/site-packages/sklearn/linear_model/logistic.py:432: FutureWarning: Default solver will be changed to 'lbfgs' in 0.22. Specify a solver to silence this warning.\n",
      "  FutureWarning)\n",
      "/opt/anaconda3/lib/python3.7/site-packages/sklearn/linear_model/logistic.py:432: FutureWarning: Default solver will be changed to 'lbfgs' in 0.22. Specify a solver to silence this warning.\n",
      "  FutureWarning)\n",
      "/opt/anaconda3/lib/python3.7/site-packages/sklearn/linear_model/logistic.py:432: FutureWarning: Default solver will be changed to 'lbfgs' in 0.22. Specify a solver to silence this warning.\n",
      "  FutureWarning)\n",
      "/opt/anaconda3/lib/python3.7/site-packages/sklearn/linear_model/logistic.py:432: FutureWarning: Default solver will be changed to 'lbfgs' in 0.22. Specify a solver to silence this warning.\n",
      "  FutureWarning)\n",
      "/opt/anaconda3/lib/python3.7/site-packages/sklearn/linear_model/logistic.py:432: FutureWarning: Default solver will be changed to 'lbfgs' in 0.22. Specify a solver to silence this warning.\n",
      "  FutureWarning)\n",
      "/opt/anaconda3/lib/python3.7/site-packages/sklearn/linear_model/logistic.py:432: FutureWarning: Default solver will be changed to 'lbfgs' in 0.22. Specify a solver to silence this warning.\n",
      "  FutureWarning)\n",
      "/opt/anaconda3/lib/python3.7/site-packages/sklearn/linear_model/logistic.py:432: FutureWarning: Default solver will be changed to 'lbfgs' in 0.22. Specify a solver to silence this warning.\n",
      "  FutureWarning)\n",
      "/opt/anaconda3/lib/python3.7/site-packages/sklearn/linear_model/logistic.py:432: FutureWarning: Default solver will be changed to 'lbfgs' in 0.22. Specify a solver to silence this warning.\n",
      "  FutureWarning)\n",
      "/opt/anaconda3/lib/python3.7/site-packages/sklearn/linear_model/logistic.py:432: FutureWarning: Default solver will be changed to 'lbfgs' in 0.22. Specify a solver to silence this warning.\n",
      "  FutureWarning)\n",
      "/opt/anaconda3/lib/python3.7/site-packages/sklearn/linear_model/logistic.py:432: FutureWarning: Default solver will be changed to 'lbfgs' in 0.22. Specify a solver to silence this warning.\n",
      "  FutureWarning)\n",
      "/opt/anaconda3/lib/python3.7/site-packages/sklearn/linear_model/logistic.py:432: FutureWarning: Default solver will be changed to 'lbfgs' in 0.22. Specify a solver to silence this warning.\n",
      "  FutureWarning)\n",
      "/opt/anaconda3/lib/python3.7/site-packages/sklearn/linear_model/logistic.py:432: FutureWarning: Default solver will be changed to 'lbfgs' in 0.22. Specify a solver to silence this warning.\n",
      "  FutureWarning)\n",
      "/opt/anaconda3/lib/python3.7/site-packages/sklearn/linear_model/logistic.py:432: FutureWarning: Default solver will be changed to 'lbfgs' in 0.22. Specify a solver to silence this warning.\n",
      "  FutureWarning)\n",
      "/opt/anaconda3/lib/python3.7/site-packages/sklearn/linear_model/logistic.py:432: FutureWarning: Default solver will be changed to 'lbfgs' in 0.22. Specify a solver to silence this warning.\n",
      "  FutureWarning)\n",
      "/opt/anaconda3/lib/python3.7/site-packages/sklearn/linear_model/logistic.py:432: FutureWarning: Default solver will be changed to 'lbfgs' in 0.22. Specify a solver to silence this warning.\n",
      "  FutureWarning)\n",
      "/opt/anaconda3/lib/python3.7/site-packages/sklearn/linear_model/logistic.py:432: FutureWarning: Default solver will be changed to 'lbfgs' in 0.22. Specify a solver to silence this warning.\n",
      "  FutureWarning)\n",
      "/opt/anaconda3/lib/python3.7/site-packages/sklearn/linear_model/logistic.py:432: FutureWarning: Default solver will be changed to 'lbfgs' in 0.22. Specify a solver to silence this warning.\n",
      "  FutureWarning)\n",
      "/opt/anaconda3/lib/python3.7/site-packages/sklearn/linear_model/logistic.py:432: FutureWarning: Default solver will be changed to 'lbfgs' in 0.22. Specify a solver to silence this warning.\n",
      "  FutureWarning)\n",
      "/opt/anaconda3/lib/python3.7/site-packages/sklearn/linear_model/logistic.py:432: FutureWarning: Default solver will be changed to 'lbfgs' in 0.22. Specify a solver to silence this warning.\n",
      "  FutureWarning)\n",
      "/opt/anaconda3/lib/python3.7/site-packages/sklearn/linear_model/logistic.py:432: FutureWarning: Default solver will be changed to 'lbfgs' in 0.22. Specify a solver to silence this warning.\n",
      "  FutureWarning)\n",
      "/opt/anaconda3/lib/python3.7/site-packages/sklearn/linear_model/logistic.py:432: FutureWarning: Default solver will be changed to 'lbfgs' in 0.22. Specify a solver to silence this warning.\n",
      "  FutureWarning)\n",
      "/opt/anaconda3/lib/python3.7/site-packages/sklearn/linear_model/logistic.py:432: FutureWarning: Default solver will be changed to 'lbfgs' in 0.22. Specify a solver to silence this warning.\n",
      "  FutureWarning)\n",
      "/opt/anaconda3/lib/python3.7/site-packages/sklearn/linear_model/logistic.py:432: FutureWarning: Default solver will be changed to 'lbfgs' in 0.22. Specify a solver to silence this warning.\n",
      "  FutureWarning)\n",
      "/opt/anaconda3/lib/python3.7/site-packages/sklearn/linear_model/logistic.py:432: FutureWarning: Default solver will be changed to 'lbfgs' in 0.22. Specify a solver to silence this warning.\n",
      "  FutureWarning)\n",
      "/opt/anaconda3/lib/python3.7/site-packages/sklearn/linear_model/logistic.py:432: FutureWarning: Default solver will be changed to 'lbfgs' in 0.22. Specify a solver to silence this warning.\n",
      "  FutureWarning)\n",
      "/opt/anaconda3/lib/python3.7/site-packages/sklearn/linear_model/logistic.py:432: FutureWarning: Default solver will be changed to 'lbfgs' in 0.22. Specify a solver to silence this warning.\n",
      "  FutureWarning)\n",
      "/opt/anaconda3/lib/python3.7/site-packages/sklearn/linear_model/logistic.py:432: FutureWarning: Default solver will be changed to 'lbfgs' in 0.22. Specify a solver to silence this warning.\n",
      "  FutureWarning)\n",
      "/opt/anaconda3/lib/python3.7/site-packages/sklearn/linear_model/logistic.py:432: FutureWarning: Default solver will be changed to 'lbfgs' in 0.22. Specify a solver to silence this warning.\n",
      "  FutureWarning)\n",
      "/opt/anaconda3/lib/python3.7/site-packages/sklearn/linear_model/logistic.py:432: FutureWarning: Default solver will be changed to 'lbfgs' in 0.22. Specify a solver to silence this warning.\n",
      "  FutureWarning)\n",
      "/opt/anaconda3/lib/python3.7/site-packages/sklearn/linear_model/logistic.py:432: FutureWarning: Default solver will be changed to 'lbfgs' in 0.22. Specify a solver to silence this warning.\n",
      "  FutureWarning)\n",
      "/opt/anaconda3/lib/python3.7/site-packages/sklearn/linear_model/logistic.py:432: FutureWarning: Default solver will be changed to 'lbfgs' in 0.22. Specify a solver to silence this warning.\n",
      "  FutureWarning)\n",
      "/opt/anaconda3/lib/python3.7/site-packages/sklearn/linear_model/logistic.py:432: FutureWarning: Default solver will be changed to 'lbfgs' in 0.22. Specify a solver to silence this warning.\n",
      "  FutureWarning)\n",
      "/opt/anaconda3/lib/python3.7/site-packages/sklearn/linear_model/logistic.py:432: FutureWarning: Default solver will be changed to 'lbfgs' in 0.22. Specify a solver to silence this warning.\n",
      "  FutureWarning)\n",
      "/opt/anaconda3/lib/python3.7/site-packages/sklearn/linear_model/logistic.py:432: FutureWarning: Default solver will be changed to 'lbfgs' in 0.22. Specify a solver to silence this warning.\n",
      "  FutureWarning)\n",
      "/opt/anaconda3/lib/python3.7/site-packages/sklearn/linear_model/logistic.py:432: FutureWarning: Default solver will be changed to 'lbfgs' in 0.22. Specify a solver to silence this warning.\n",
      "  FutureWarning)\n",
      "/opt/anaconda3/lib/python3.7/site-packages/sklearn/linear_model/logistic.py:432: FutureWarning: Default solver will be changed to 'lbfgs' in 0.22. Specify a solver to silence this warning.\n",
      "  FutureWarning)\n",
      "/opt/anaconda3/lib/python3.7/site-packages/sklearn/linear_model/logistic.py:432: FutureWarning: Default solver will be changed to 'lbfgs' in 0.22. Specify a solver to silence this warning.\n",
      "  FutureWarning)\n",
      "/opt/anaconda3/lib/python3.7/site-packages/sklearn/linear_model/logistic.py:432: FutureWarning: Default solver will be changed to 'lbfgs' in 0.22. Specify a solver to silence this warning.\n",
      "  FutureWarning)\n",
      "/opt/anaconda3/lib/python3.7/site-packages/sklearn/linear_model/logistic.py:432: FutureWarning: Default solver will be changed to 'lbfgs' in 0.22. Specify a solver to silence this warning.\n",
      "  FutureWarning)\n",
      "/opt/anaconda3/lib/python3.7/site-packages/sklearn/linear_model/logistic.py:432: FutureWarning: Default solver will be changed to 'lbfgs' in 0.22. Specify a solver to silence this warning.\n",
      "  FutureWarning)\n",
      "/opt/anaconda3/lib/python3.7/site-packages/sklearn/linear_model/logistic.py:432: FutureWarning: Default solver will be changed to 'lbfgs' in 0.22. Specify a solver to silence this warning.\n",
      "  FutureWarning)\n",
      "/opt/anaconda3/lib/python3.7/site-packages/sklearn/linear_model/logistic.py:432: FutureWarning: Default solver will be changed to 'lbfgs' in 0.22. Specify a solver to silence this warning.\n",
      "  FutureWarning)\n",
      "/opt/anaconda3/lib/python3.7/site-packages/sklearn/linear_model/logistic.py:432: FutureWarning: Default solver will be changed to 'lbfgs' in 0.22. Specify a solver to silence this warning.\n",
      "  FutureWarning)\n",
      "/opt/anaconda3/lib/python3.7/site-packages/sklearn/linear_model/logistic.py:432: FutureWarning: Default solver will be changed to 'lbfgs' in 0.22. Specify a solver to silence this warning.\n",
      "  FutureWarning)\n",
      "/opt/anaconda3/lib/python3.7/site-packages/sklearn/linear_model/logistic.py:432: FutureWarning: Default solver will be changed to 'lbfgs' in 0.22. Specify a solver to silence this warning.\n",
      "  FutureWarning)\n",
      "/opt/anaconda3/lib/python3.7/site-packages/sklearn/linear_model/logistic.py:432: FutureWarning: Default solver will be changed to 'lbfgs' in 0.22. Specify a solver to silence this warning.\n",
      "  FutureWarning)\n",
      "/opt/anaconda3/lib/python3.7/site-packages/sklearn/linear_model/logistic.py:432: FutureWarning: Default solver will be changed to 'lbfgs' in 0.22. Specify a solver to silence this warning.\n",
      "  FutureWarning)\n",
      "/opt/anaconda3/lib/python3.7/site-packages/sklearn/linear_model/logistic.py:432: FutureWarning: Default solver will be changed to 'lbfgs' in 0.22. Specify a solver to silence this warning.\n",
      "  FutureWarning)\n",
      "/opt/anaconda3/lib/python3.7/site-packages/sklearn/linear_model/logistic.py:432: FutureWarning: Default solver will be changed to 'lbfgs' in 0.22. Specify a solver to silence this warning.\n",
      "  FutureWarning)\n",
      "/opt/anaconda3/lib/python3.7/site-packages/sklearn/linear_model/logistic.py:432: FutureWarning: Default solver will be changed to 'lbfgs' in 0.22. Specify a solver to silence this warning.\n",
      "  FutureWarning)\n",
      "/opt/anaconda3/lib/python3.7/site-packages/sklearn/linear_model/logistic.py:432: FutureWarning: Default solver will be changed to 'lbfgs' in 0.22. Specify a solver to silence this warning.\n",
      "  FutureWarning)\n",
      "/opt/anaconda3/lib/python3.7/site-packages/sklearn/linear_model/logistic.py:432: FutureWarning: Default solver will be changed to 'lbfgs' in 0.22. Specify a solver to silence this warning.\n",
      "  FutureWarning)\n",
      "/opt/anaconda3/lib/python3.7/site-packages/sklearn/linear_model/logistic.py:432: FutureWarning: Default solver will be changed to 'lbfgs' in 0.22. Specify a solver to silence this warning.\n",
      "  FutureWarning)\n",
      "/opt/anaconda3/lib/python3.7/site-packages/sklearn/linear_model/logistic.py:432: FutureWarning: Default solver will be changed to 'lbfgs' in 0.22. Specify a solver to silence this warning.\n",
      "  FutureWarning)\n",
      "/opt/anaconda3/lib/python3.7/site-packages/sklearn/linear_model/logistic.py:432: FutureWarning: Default solver will be changed to 'lbfgs' in 0.22. Specify a solver to silence this warning.\n",
      "  FutureWarning)\n",
      "/opt/anaconda3/lib/python3.7/site-packages/sklearn/linear_model/logistic.py:432: FutureWarning: Default solver will be changed to 'lbfgs' in 0.22. Specify a solver to silence this warning.\n",
      "  FutureWarning)\n",
      "/opt/anaconda3/lib/python3.7/site-packages/sklearn/linear_model/logistic.py:432: FutureWarning: Default solver will be changed to 'lbfgs' in 0.22. Specify a solver to silence this warning.\n",
      "  FutureWarning)\n",
      "/opt/anaconda3/lib/python3.7/site-packages/sklearn/linear_model/logistic.py:432: FutureWarning: Default solver will be changed to 'lbfgs' in 0.22. Specify a solver to silence this warning.\n",
      "  FutureWarning)\n"
     ]
    },
    {
     "name": "stderr",
     "output_type": "stream",
     "text": [
      "/opt/anaconda3/lib/python3.7/site-packages/sklearn/linear_model/logistic.py:432: FutureWarning: Default solver will be changed to 'lbfgs' in 0.22. Specify a solver to silence this warning.\n",
      "  FutureWarning)\n",
      "/opt/anaconda3/lib/python3.7/site-packages/sklearn/linear_model/logistic.py:432: FutureWarning: Default solver will be changed to 'lbfgs' in 0.22. Specify a solver to silence this warning.\n",
      "  FutureWarning)\n",
      "/opt/anaconda3/lib/python3.7/site-packages/sklearn/linear_model/logistic.py:432: FutureWarning: Default solver will be changed to 'lbfgs' in 0.22. Specify a solver to silence this warning.\n",
      "  FutureWarning)\n",
      "/opt/anaconda3/lib/python3.7/site-packages/sklearn/linear_model/logistic.py:432: FutureWarning: Default solver will be changed to 'lbfgs' in 0.22. Specify a solver to silence this warning.\n",
      "  FutureWarning)\n",
      "/opt/anaconda3/lib/python3.7/site-packages/sklearn/linear_model/logistic.py:432: FutureWarning: Default solver will be changed to 'lbfgs' in 0.22. Specify a solver to silence this warning.\n",
      "  FutureWarning)\n",
      "/opt/anaconda3/lib/python3.7/site-packages/sklearn/linear_model/logistic.py:432: FutureWarning: Default solver will be changed to 'lbfgs' in 0.22. Specify a solver to silence this warning.\n",
      "  FutureWarning)\n",
      "/opt/anaconda3/lib/python3.7/site-packages/sklearn/linear_model/logistic.py:432: FutureWarning: Default solver will be changed to 'lbfgs' in 0.22. Specify a solver to silence this warning.\n",
      "  FutureWarning)\n",
      "/opt/anaconda3/lib/python3.7/site-packages/sklearn/linear_model/logistic.py:432: FutureWarning: Default solver will be changed to 'lbfgs' in 0.22. Specify a solver to silence this warning.\n",
      "  FutureWarning)\n",
      "/opt/anaconda3/lib/python3.7/site-packages/sklearn/linear_model/logistic.py:432: FutureWarning: Default solver will be changed to 'lbfgs' in 0.22. Specify a solver to silence this warning.\n",
      "  FutureWarning)\n",
      "/opt/anaconda3/lib/python3.7/site-packages/sklearn/linear_model/logistic.py:432: FutureWarning: Default solver will be changed to 'lbfgs' in 0.22. Specify a solver to silence this warning.\n",
      "  FutureWarning)\n",
      "/opt/anaconda3/lib/python3.7/site-packages/sklearn/linear_model/logistic.py:432: FutureWarning: Default solver will be changed to 'lbfgs' in 0.22. Specify a solver to silence this warning.\n",
      "  FutureWarning)\n",
      "/opt/anaconda3/lib/python3.7/site-packages/sklearn/linear_model/logistic.py:432: FutureWarning: Default solver will be changed to 'lbfgs' in 0.22. Specify a solver to silence this warning.\n",
      "  FutureWarning)\n",
      "/opt/anaconda3/lib/python3.7/site-packages/sklearn/linear_model/logistic.py:432: FutureWarning: Default solver will be changed to 'lbfgs' in 0.22. Specify a solver to silence this warning.\n",
      "  FutureWarning)\n",
      "/opt/anaconda3/lib/python3.7/site-packages/sklearn/svm/base.py:929: ConvergenceWarning: Liblinear failed to converge, increase the number of iterations.\n",
      "  \"the number of iterations.\", ConvergenceWarning)\n",
      "/opt/anaconda3/lib/python3.7/site-packages/sklearn/linear_model/logistic.py:432: FutureWarning: Default solver will be changed to 'lbfgs' in 0.22. Specify a solver to silence this warning.\n",
      "  FutureWarning)\n",
      "/opt/anaconda3/lib/python3.7/site-packages/sklearn/svm/base.py:929: ConvergenceWarning: Liblinear failed to converge, increase the number of iterations.\n",
      "  \"the number of iterations.\", ConvergenceWarning)\n",
      "/opt/anaconda3/lib/python3.7/site-packages/sklearn/linear_model/logistic.py:432: FutureWarning: Default solver will be changed to 'lbfgs' in 0.22. Specify a solver to silence this warning.\n",
      "  FutureWarning)\n",
      "/opt/anaconda3/lib/python3.7/site-packages/sklearn/svm/base.py:929: ConvergenceWarning: Liblinear failed to converge, increase the number of iterations.\n",
      "  \"the number of iterations.\", ConvergenceWarning)\n",
      "/opt/anaconda3/lib/python3.7/site-packages/sklearn/linear_model/logistic.py:432: FutureWarning: Default solver will be changed to 'lbfgs' in 0.22. Specify a solver to silence this warning.\n",
      "  FutureWarning)\n",
      "/opt/anaconda3/lib/python3.7/site-packages/sklearn/linear_model/logistic.py:432: FutureWarning: Default solver will be changed to 'lbfgs' in 0.22. Specify a solver to silence this warning.\n",
      "  FutureWarning)\n",
      "/opt/anaconda3/lib/python3.7/site-packages/sklearn/linear_model/logistic.py:432: FutureWarning: Default solver will be changed to 'lbfgs' in 0.22. Specify a solver to silence this warning.\n",
      "  FutureWarning)\n",
      "/opt/anaconda3/lib/python3.7/site-packages/sklearn/svm/base.py:929: ConvergenceWarning: Liblinear failed to converge, increase the number of iterations.\n",
      "  \"the number of iterations.\", ConvergenceWarning)\n",
      "/opt/anaconda3/lib/python3.7/site-packages/sklearn/linear_model/logistic.py:432: FutureWarning: Default solver will be changed to 'lbfgs' in 0.22. Specify a solver to silence this warning.\n",
      "  FutureWarning)\n",
      "/opt/anaconda3/lib/python3.7/site-packages/sklearn/svm/base.py:929: ConvergenceWarning: Liblinear failed to converge, increase the number of iterations.\n",
      "  \"the number of iterations.\", ConvergenceWarning)\n",
      "/opt/anaconda3/lib/python3.7/site-packages/sklearn/linear_model/logistic.py:432: FutureWarning: Default solver will be changed to 'lbfgs' in 0.22. Specify a solver to silence this warning.\n",
      "  FutureWarning)\n",
      "/opt/anaconda3/lib/python3.7/site-packages/sklearn/svm/base.py:929: ConvergenceWarning: Liblinear failed to converge, increase the number of iterations.\n",
      "  \"the number of iterations.\", ConvergenceWarning)\n",
      "/opt/anaconda3/lib/python3.7/site-packages/sklearn/linear_model/logistic.py:432: FutureWarning: Default solver will be changed to 'lbfgs' in 0.22. Specify a solver to silence this warning.\n",
      "  FutureWarning)\n",
      "/opt/anaconda3/lib/python3.7/site-packages/sklearn/svm/base.py:929: ConvergenceWarning: Liblinear failed to converge, increase the number of iterations.\n",
      "  \"the number of iterations.\", ConvergenceWarning)\n",
      "/opt/anaconda3/lib/python3.7/site-packages/sklearn/linear_model/logistic.py:432: FutureWarning: Default solver will be changed to 'lbfgs' in 0.22. Specify a solver to silence this warning.\n",
      "  FutureWarning)\n",
      "/opt/anaconda3/lib/python3.7/site-packages/sklearn/linear_model/logistic.py:432: FutureWarning: Default solver will be changed to 'lbfgs' in 0.22. Specify a solver to silence this warning.\n",
      "  FutureWarning)\n",
      "/opt/anaconda3/lib/python3.7/site-packages/sklearn/linear_model/logistic.py:432: FutureWarning: Default solver will be changed to 'lbfgs' in 0.22. Specify a solver to silence this warning.\n",
      "  FutureWarning)\n",
      "/opt/anaconda3/lib/python3.7/site-packages/sklearn/linear_model/logistic.py:432: FutureWarning: Default solver will be changed to 'lbfgs' in 0.22. Specify a solver to silence this warning.\n",
      "  FutureWarning)\n",
      "/opt/anaconda3/lib/python3.7/site-packages/sklearn/linear_model/logistic.py:432: FutureWarning: Default solver will be changed to 'lbfgs' in 0.22. Specify a solver to silence this warning.\n",
      "  FutureWarning)\n",
      "/opt/anaconda3/lib/python3.7/site-packages/sklearn/linear_model/logistic.py:432: FutureWarning: Default solver will be changed to 'lbfgs' in 0.22. Specify a solver to silence this warning.\n",
      "  FutureWarning)\n",
      "/opt/anaconda3/lib/python3.7/site-packages/sklearn/linear_model/logistic.py:432: FutureWarning: Default solver will be changed to 'lbfgs' in 0.22. Specify a solver to silence this warning.\n",
      "  FutureWarning)\n",
      "/opt/anaconda3/lib/python3.7/site-packages/sklearn/linear_model/logistic.py:432: FutureWarning: Default solver will be changed to 'lbfgs' in 0.22. Specify a solver to silence this warning.\n",
      "  FutureWarning)\n",
      "/opt/anaconda3/lib/python3.7/site-packages/sklearn/linear_model/logistic.py:432: FutureWarning: Default solver will be changed to 'lbfgs' in 0.22. Specify a solver to silence this warning.\n",
      "  FutureWarning)\n",
      "/opt/anaconda3/lib/python3.7/site-packages/sklearn/linear_model/logistic.py:432: FutureWarning: Default solver will be changed to 'lbfgs' in 0.22. Specify a solver to silence this warning.\n",
      "  FutureWarning)\n",
      "/opt/anaconda3/lib/python3.7/site-packages/sklearn/linear_model/logistic.py:432: FutureWarning: Default solver will be changed to 'lbfgs' in 0.22. Specify a solver to silence this warning.\n",
      "  FutureWarning)\n",
      "/opt/anaconda3/lib/python3.7/site-packages/sklearn/svm/base.py:929: ConvergenceWarning: Liblinear failed to converge, increase the number of iterations.\n",
      "  \"the number of iterations.\", ConvergenceWarning)\n",
      "/opt/anaconda3/lib/python3.7/site-packages/sklearn/linear_model/logistic.py:432: FutureWarning: Default solver will be changed to 'lbfgs' in 0.22. Specify a solver to silence this warning.\n",
      "  FutureWarning)\n"
     ]
    },
    {
     "name": "stdout",
     "output_type": "stream",
     "text": [
      "{'C': 0.001, 'penalty': 'l1'}\n",
      "0.5893719806763285\n"
     ]
    },
    {
     "name": "stderr",
     "output_type": "stream",
     "text": [
      "/opt/anaconda3/lib/python3.7/site-packages/sklearn/svm/base.py:929: ConvergenceWarning: Liblinear failed to converge, increase the number of iterations.\n",
      "  \"the number of iterations.\", ConvergenceWarning)\n",
      "/opt/anaconda3/lib/python3.7/site-packages/sklearn/linear_model/logistic.py:432: FutureWarning: Default solver will be changed to 'lbfgs' in 0.22. Specify a solver to silence this warning.\n",
      "  FutureWarning)\n",
      "/opt/anaconda3/lib/python3.7/site-packages/sklearn/svm/base.py:929: ConvergenceWarning: Liblinear failed to converge, increase the number of iterations.\n",
      "  \"the number of iterations.\", ConvergenceWarning)\n",
      "/opt/anaconda3/lib/python3.7/site-packages/sklearn/linear_model/logistic.py:432: FutureWarning: Default solver will be changed to 'lbfgs' in 0.22. Specify a solver to silence this warning.\n",
      "  FutureWarning)\n",
      "/opt/anaconda3/lib/python3.7/site-packages/sklearn/svm/base.py:929: ConvergenceWarning: Liblinear failed to converge, increase the number of iterations.\n",
      "  \"the number of iterations.\", ConvergenceWarning)\n",
      "/opt/anaconda3/lib/python3.7/site-packages/sklearn/linear_model/logistic.py:432: FutureWarning: Default solver will be changed to 'lbfgs' in 0.22. Specify a solver to silence this warning.\n",
      "  FutureWarning)\n",
      "/opt/anaconda3/lib/python3.7/site-packages/sklearn/linear_model/logistic.py:432: FutureWarning: Default solver will be changed to 'lbfgs' in 0.22. Specify a solver to silence this warning.\n",
      "  FutureWarning)\n",
      "/opt/anaconda3/lib/python3.7/site-packages/sklearn/svm/base.py:929: ConvergenceWarning: Liblinear failed to converge, increase the number of iterations.\n",
      "  \"the number of iterations.\", ConvergenceWarning)\n",
      "/opt/anaconda3/lib/python3.7/site-packages/sklearn/linear_model/logistic.py:432: FutureWarning: Default solver will be changed to 'lbfgs' in 0.22. Specify a solver to silence this warning.\n",
      "  FutureWarning)\n",
      "/opt/anaconda3/lib/python3.7/site-packages/sklearn/svm/base.py:929: ConvergenceWarning: Liblinear failed to converge, increase the number of iterations.\n",
      "  \"the number of iterations.\", ConvergenceWarning)\n",
      "/opt/anaconda3/lib/python3.7/site-packages/sklearn/linear_model/logistic.py:432: FutureWarning: Default solver will be changed to 'lbfgs' in 0.22. Specify a solver to silence this warning.\n",
      "  FutureWarning)\n",
      "/opt/anaconda3/lib/python3.7/site-packages/sklearn/svm/base.py:929: ConvergenceWarning: Liblinear failed to converge, increase the number of iterations.\n",
      "  \"the number of iterations.\", ConvergenceWarning)\n",
      "/opt/anaconda3/lib/python3.7/site-packages/sklearn/linear_model/logistic.py:432: FutureWarning: Default solver will be changed to 'lbfgs' in 0.22. Specify a solver to silence this warning.\n",
      "  FutureWarning)\n",
      "/opt/anaconda3/lib/python3.7/site-packages/sklearn/svm/base.py:929: ConvergenceWarning: Liblinear failed to converge, increase the number of iterations.\n",
      "  \"the number of iterations.\", ConvergenceWarning)\n",
      "/opt/anaconda3/lib/python3.7/site-packages/sklearn/linear_model/logistic.py:432: FutureWarning: Default solver will be changed to 'lbfgs' in 0.22. Specify a solver to silence this warning.\n",
      "  FutureWarning)\n",
      "/opt/anaconda3/lib/python3.7/site-packages/sklearn/svm/base.py:929: ConvergenceWarning: Liblinear failed to converge, increase the number of iterations.\n",
      "  \"the number of iterations.\", ConvergenceWarning)\n",
      "/opt/anaconda3/lib/python3.7/site-packages/sklearn/linear_model/logistic.py:432: FutureWarning: Default solver will be changed to 'lbfgs' in 0.22. Specify a solver to silence this warning.\n",
      "  FutureWarning)\n",
      "/opt/anaconda3/lib/python3.7/site-packages/sklearn/linear_model/logistic.py:432: FutureWarning: Default solver will be changed to 'lbfgs' in 0.22. Specify a solver to silence this warning.\n",
      "  FutureWarning)\n",
      "/opt/anaconda3/lib/python3.7/site-packages/sklearn/linear_model/logistic.py:432: FutureWarning: Default solver will be changed to 'lbfgs' in 0.22. Specify a solver to silence this warning.\n",
      "  FutureWarning)\n",
      "/opt/anaconda3/lib/python3.7/site-packages/sklearn/linear_model/logistic.py:432: FutureWarning: Default solver will be changed to 'lbfgs' in 0.22. Specify a solver to silence this warning.\n",
      "  FutureWarning)\n",
      "/opt/anaconda3/lib/python3.7/site-packages/sklearn/linear_model/logistic.py:432: FutureWarning: Default solver will be changed to 'lbfgs' in 0.22. Specify a solver to silence this warning.\n",
      "  FutureWarning)\n",
      "/opt/anaconda3/lib/python3.7/site-packages/sklearn/linear_model/logistic.py:432: FutureWarning: Default solver will be changed to 'lbfgs' in 0.22. Specify a solver to silence this warning.\n",
      "  FutureWarning)\n",
      "/opt/anaconda3/lib/python3.7/site-packages/sklearn/linear_model/logistic.py:432: FutureWarning: Default solver will be changed to 'lbfgs' in 0.22. Specify a solver to silence this warning.\n",
      "  FutureWarning)\n",
      "/opt/anaconda3/lib/python3.7/site-packages/sklearn/linear_model/logistic.py:432: FutureWarning: Default solver will be changed to 'lbfgs' in 0.22. Specify a solver to silence this warning.\n",
      "  FutureWarning)\n",
      "/opt/anaconda3/lib/python3.7/site-packages/sklearn/linear_model/logistic.py:432: FutureWarning: Default solver will be changed to 'lbfgs' in 0.22. Specify a solver to silence this warning.\n",
      "  FutureWarning)\n",
      "/opt/anaconda3/lib/python3.7/site-packages/sklearn/linear_model/logistic.py:432: FutureWarning: Default solver will be changed to 'lbfgs' in 0.22. Specify a solver to silence this warning.\n",
      "  FutureWarning)\n",
      "/opt/anaconda3/lib/python3.7/site-packages/sklearn/model_selection/_search.py:814: DeprecationWarning: The default of the `iid` parameter will change from True to False in version 0.22 and will be removed in 0.24. This will change numeric results when test-set sizes are unequal.\n",
      "  DeprecationWarning)\n",
      "/opt/anaconda3/lib/python3.7/site-packages/sklearn/linear_model/logistic.py:432: FutureWarning: Default solver will be changed to 'lbfgs' in 0.22. Specify a solver to silence this warning.\n",
      "  FutureWarning)\n"
     ]
    }
   ],
   "source": [
    "# GridSearchCV for basic LogisitcRegression \n",
    "params = {'C':[0.001, 0.01, 0.1, 1, 10, 100], 'penalty':['l1', 'l2']}\n",
    "\n",
    "grid_search = GridSearchCV(logreg, param_grid=params, cv=10)\n",
    "grid_search.fit(X_train, y_train)\n",
    "print(grid_search.best_params_)\n",
    "print(grid_search.best_score_)"
   ]
  },
  {
   "cell_type": "code",
   "execution_count": 403,
   "metadata": {},
   "outputs": [
    {
     "name": "stdout",
     "output_type": "stream",
     "text": [
      "CV Scores Mean: 0.6022727272727273\n",
      "CV Scores 95% CI: [0.4225     0.74488636]\n"
     ]
    }
   ],
   "source": [
    "# logistic regression with cross validation, hyperparameters: c=0.001, penalty=l1\n",
    "final_logreg = LogisticRegression(solver='lbfgs')\n",
    "cv_scores = cross_val_score(final_logreg, X_test, y_test, cv=10)\n",
    "print(f'CV Scores Mean: {np.mean(cv_scores)}')\n",
    "print(f'CV Scores 95% CI: {np.quantile(cv_scores, [0.025, 0.975])}')"
   ]
  },
  {
   "cell_type": "code",
   "execution_count": 404,
   "metadata": {},
   "outputs": [
    {
     "data": {
      "text/plain": [
       "0.5865384615384616"
      ]
     },
     "execution_count": 404,
     "metadata": {},
     "output_type": "execute_result"
    }
   ],
   "source": [
    "# Decision Tree, visualize using with export_graphviz\n",
    "dt_clf = DecisionTreeClassifier(criterion='entropy', max_depth = 5, random_state=21)\n",
    "dt_clf.fit(X_train, y_train)\n",
    "dt_clf.score(X_test, y_test)"
   ]
  },
  {
   "cell_type": "code",
   "execution_count": 405,
   "metadata": {},
   "outputs": [
    {
     "name": "stdout",
     "output_type": "stream",
     "text": [
      "0.5480769230769231\n"
     ]
    },
    {
     "name": "stderr",
     "output_type": "stream",
     "text": [
      "/opt/anaconda3/lib/python3.7/site-packages/sklearn/ensemble/bagging.py:611: UserWarning: Some inputs do not have OOB scores. This probably means too few estimators were used to compute any reliable oob estimates.\n",
      "  warn(\"Some inputs do not have OOB scores. \"\n",
      "/opt/anaconda3/lib/python3.7/site-packages/sklearn/ensemble/bagging.py:616: RuntimeWarning: invalid value encountered in true_divide\n",
      "  predictions.sum(axis=1)[:, np.newaxis])\n"
     ]
    },
    {
     "data": {
      "text/plain": [
       "0.5700483091787439"
      ]
     },
     "execution_count": 405,
     "metadata": {},
     "output_type": "execute_result"
    }
   ],
   "source": [
    "# Bagging Classifier with base model of dt_clf\n",
    "dt_bag_clf = BaggingClassifier(base_estimator=dt_clf, n_estimators = 10, n_jobs=-1, oob_score = True, random_state=21)\n",
    "dt_bag_clf.fit(X_train, y_train)\n",
    "print(dt_bag_clf.score(X_test, y_test))\n",
    "dt_bag_clf.oob_score_"
   ]
  },
  {
   "cell_type": "code",
   "execution_count": 406,
   "metadata": {},
   "outputs": [
    {
     "data": {
      "text/plain": [
       "0.5865384615384616"
      ]
     },
     "execution_count": 406,
     "metadata": {},
     "output_type": "execute_result"
    }
   ],
   "source": [
    "# Linear SVM\n",
    "scaler = StandardScaler()\n",
    "lin_svm_clf = SVC(kernel='linear', C=100)\n",
    "\n",
    "scaled_svc = Pipeline([('scaler', scaler), ('linear_svc', lin_svm_clf)])\n",
    "scaled_svc.fit(X_train, y_train)\n",
    "y_pred = scaled_svc.predict(X_test)\n",
    "accuracy_score(y_pred, y_test)"
   ]
  },
  {
   "cell_type": "code",
   "execution_count": 407,
   "metadata": {},
   "outputs": [
    {
     "name": "stdout",
     "output_type": "stream",
     "text": [
      "CV Scores Mean: 0.5844947735191638\n",
      "CV Scores 95% CI: [0.52016551 0.65386179]\n"
     ]
    }
   ],
   "source": [
    "# AdaBoostClassifier - final Logistic Regression as base estimator\n",
    "boost = AdaBoostClassifier(base_estimator=final_logreg)\n",
    "boost.fit(X_train, y_train)\n",
    "      \n",
    "cv_boost_scores = cross_val_score(boost, X_train, y_train, cv=10)\n",
    "print(f'CV Scores Mean: {np.mean(cv_boost_scores)}')\n",
    "print(f'CV Scores 95% CI: {np.quantile(cv_boost_scores, [0.025, 0.975])}')"
   ]
  },
  {
   "cell_type": "markdown",
   "metadata": {},
   "source": [
    "### Interest Rates Analysis"
   ]
  },
  {
   "cell_type": "code",
   "execution_count": 408,
   "metadata": {},
   "outputs": [
    {
     "data": {
      "text/html": [
       "<div>\n",
       "<style scoped>\n",
       "    .dataframe tbody tr th:only-of-type {\n",
       "        vertical-align: middle;\n",
       "    }\n",
       "\n",
       "    .dataframe tbody tr th {\n",
       "        vertical-align: top;\n",
       "    }\n",
       "\n",
       "    .dataframe thead th {\n",
       "        text-align: right;\n",
       "    }\n",
       "</style>\n",
       "<table border=\"1\" class=\"dataframe\">\n",
       "  <thead>\n",
       "    <tr style=\"text-align: right;\">\n",
       "      <th></th>\n",
       "      <th>date</th>\n",
       "      <th>year</th>\n",
       "      <th>month</th>\n",
       "      <th>go_up</th>\n",
       "      <th>stay_same</th>\n",
       "      <th>go_down</th>\n",
       "      <th>dk_na</th>\n",
       "      <th>relative</th>\n",
       "      <th>year.1</th>\n",
       "      <th>fed_funds_rate</th>\n",
       "    </tr>\n",
       "  </thead>\n",
       "  <tbody>\n",
       "    <tr>\n",
       "      <td>0</td>\n",
       "      <td>1978-01-31</td>\n",
       "      <td>1978</td>\n",
       "      <td>1</td>\n",
       "      <td>54</td>\n",
       "      <td>31</td>\n",
       "      <td>9</td>\n",
       "      <td>6</td>\n",
       "      <td>55</td>\n",
       "      <td>1979</td>\n",
       "      <td>9.50</td>\n",
       "    </tr>\n",
       "    <tr>\n",
       "      <td>1</td>\n",
       "      <td>1978-02-28</td>\n",
       "      <td>1978</td>\n",
       "      <td>2</td>\n",
       "      <td>48</td>\n",
       "      <td>32</td>\n",
       "      <td>6</td>\n",
       "      <td>14</td>\n",
       "      <td>58</td>\n",
       "      <td>1979</td>\n",
       "      <td>9.50</td>\n",
       "    </tr>\n",
       "    <tr>\n",
       "      <td>2</td>\n",
       "      <td>1978-03-31</td>\n",
       "      <td>1978</td>\n",
       "      <td>3</td>\n",
       "      <td>55</td>\n",
       "      <td>34</td>\n",
       "      <td>4</td>\n",
       "      <td>7</td>\n",
       "      <td>49</td>\n",
       "      <td>1979</td>\n",
       "      <td>9.50</td>\n",
       "    </tr>\n",
       "    <tr>\n",
       "      <td>3</td>\n",
       "      <td>1978-04-30</td>\n",
       "      <td>1978</td>\n",
       "      <td>4</td>\n",
       "      <td>61</td>\n",
       "      <td>29</td>\n",
       "      <td>4</td>\n",
       "      <td>6</td>\n",
       "      <td>43</td>\n",
       "      <td>1979</td>\n",
       "      <td>9.50</td>\n",
       "    </tr>\n",
       "    <tr>\n",
       "      <td>4</td>\n",
       "      <td>1978-05-31</td>\n",
       "      <td>1978</td>\n",
       "      <td>5</td>\n",
       "      <td>57</td>\n",
       "      <td>29</td>\n",
       "      <td>7</td>\n",
       "      <td>7</td>\n",
       "      <td>50</td>\n",
       "      <td>1979</td>\n",
       "      <td>9.50</td>\n",
       "    </tr>\n",
       "    <tr>\n",
       "      <td>5</td>\n",
       "      <td>1978-06-30</td>\n",
       "      <td>1978</td>\n",
       "      <td>6</td>\n",
       "      <td>64</td>\n",
       "      <td>28</td>\n",
       "      <td>5</td>\n",
       "      <td>3</td>\n",
       "      <td>41</td>\n",
       "      <td>1979</td>\n",
       "      <td>9.50</td>\n",
       "    </tr>\n",
       "    <tr>\n",
       "      <td>6</td>\n",
       "      <td>1978-07-31</td>\n",
       "      <td>1978</td>\n",
       "      <td>7</td>\n",
       "      <td>66</td>\n",
       "      <td>23</td>\n",
       "      <td>6</td>\n",
       "      <td>5</td>\n",
       "      <td>40</td>\n",
       "      <td>1979</td>\n",
       "      <td>9.69</td>\n",
       "    </tr>\n",
       "    <tr>\n",
       "      <td>7</td>\n",
       "      <td>1978-08-31</td>\n",
       "      <td>1978</td>\n",
       "      <td>8</td>\n",
       "      <td>59</td>\n",
       "      <td>26</td>\n",
       "      <td>9</td>\n",
       "      <td>6</td>\n",
       "      <td>50</td>\n",
       "      <td>1979</td>\n",
       "      <td>10.24</td>\n",
       "    </tr>\n",
       "    <tr>\n",
       "      <td>8</td>\n",
       "      <td>1978-09-30</td>\n",
       "      <td>1978</td>\n",
       "      <td>9</td>\n",
       "      <td>67</td>\n",
       "      <td>23</td>\n",
       "      <td>5</td>\n",
       "      <td>5</td>\n",
       "      <td>38</td>\n",
       "      <td>1979</td>\n",
       "      <td>10.70</td>\n",
       "    </tr>\n",
       "    <tr>\n",
       "      <td>9</td>\n",
       "      <td>1978-10-31</td>\n",
       "      <td>1978</td>\n",
       "      <td>10</td>\n",
       "      <td>63</td>\n",
       "      <td>26</td>\n",
       "      <td>6</td>\n",
       "      <td>5</td>\n",
       "      <td>43</td>\n",
       "      <td>1979</td>\n",
       "      <td>11.77</td>\n",
       "    </tr>\n",
       "    <tr>\n",
       "      <td>10</td>\n",
       "      <td>1978-11-30</td>\n",
       "      <td>1978</td>\n",
       "      <td>11</td>\n",
       "      <td>71</td>\n",
       "      <td>18</td>\n",
       "      <td>6</td>\n",
       "      <td>5</td>\n",
       "      <td>35</td>\n",
       "      <td>1979</td>\n",
       "      <td>12.00</td>\n",
       "    </tr>\n",
       "    <tr>\n",
       "      <td>11</td>\n",
       "      <td>1978-12-31</td>\n",
       "      <td>1978</td>\n",
       "      <td>12</td>\n",
       "      <td>67</td>\n",
       "      <td>21</td>\n",
       "      <td>6</td>\n",
       "      <td>6</td>\n",
       "      <td>39</td>\n",
       "      <td>1979</td>\n",
       "      <td>12.00</td>\n",
       "    </tr>\n",
       "    <tr>\n",
       "      <td>12</td>\n",
       "      <td>1979-01-31</td>\n",
       "      <td>1979</td>\n",
       "      <td>1</td>\n",
       "      <td>69</td>\n",
       "      <td>20</td>\n",
       "      <td>7</td>\n",
       "      <td>4</td>\n",
       "      <td>38</td>\n",
       "      <td>1980</td>\n",
       "      <td>12.00</td>\n",
       "    </tr>\n",
       "    <tr>\n",
       "      <td>13</td>\n",
       "      <td>1979-02-28</td>\n",
       "      <td>1979</td>\n",
       "      <td>2</td>\n",
       "      <td>54</td>\n",
       "      <td>27</td>\n",
       "      <td>13</td>\n",
       "      <td>6</td>\n",
       "      <td>59</td>\n",
       "      <td>1980</td>\n",
       "      <td>12.52</td>\n",
       "    </tr>\n",
       "    <tr>\n",
       "      <td>14</td>\n",
       "      <td>1979-03-31</td>\n",
       "      <td>1979</td>\n",
       "      <td>3</td>\n",
       "      <td>65</td>\n",
       "      <td>23</td>\n",
       "      <td>7</td>\n",
       "      <td>5</td>\n",
       "      <td>42</td>\n",
       "      <td>1980</td>\n",
       "      <td>13.00</td>\n",
       "    </tr>\n",
       "  </tbody>\n",
       "</table>\n",
       "</div>"
      ],
      "text/plain": [
       "          date  year  month  go_up  stay_same  go_down  dk_na  relative  \\\n",
       "0   1978-01-31  1978      1     54         31        9      6        55   \n",
       "1   1978-02-28  1978      2     48         32        6     14        58   \n",
       "2   1978-03-31  1978      3     55         34        4      7        49   \n",
       "3   1978-04-30  1978      4     61         29        4      6        43   \n",
       "4   1978-05-31  1978      5     57         29        7      7        50   \n",
       "5   1978-06-30  1978      6     64         28        5      3        41   \n",
       "6   1978-07-31  1978      7     66         23        6      5        40   \n",
       "7   1978-08-31  1978      8     59         26        9      6        50   \n",
       "8   1978-09-30  1978      9     67         23        5      5        38   \n",
       "9   1978-10-31  1978     10     63         26        6      5        43   \n",
       "10  1978-11-30  1978     11     71         18        6      5        35   \n",
       "11  1978-12-31  1978     12     67         21        6      6        39   \n",
       "12  1979-01-31  1979      1     69         20        7      4        38   \n",
       "13  1979-02-28  1979      2     54         27       13      6        59   \n",
       "14  1979-03-31  1979      3     65         23        7      5        42   \n",
       "\n",
       "    year.1  fed_funds_rate  \n",
       "0     1979            9.50  \n",
       "1     1979            9.50  \n",
       "2     1979            9.50  \n",
       "3     1979            9.50  \n",
       "4     1979            9.50  \n",
       "5     1979            9.50  \n",
       "6     1979            9.69  \n",
       "7     1979           10.24  \n",
       "8     1979           10.70  \n",
       "9     1979           11.77  \n",
       "10    1979           12.00  \n",
       "11    1979           12.00  \n",
       "12    1980           12.00  \n",
       "13    1980           12.52  \n",
       "14    1980           13.00  "
      ]
     },
     "execution_count": 408,
     "metadata": {},
     "output_type": "execute_result"
    }
   ],
   "source": [
    "interest_rates = pd.read_csv('/Users/jackboydell/Desktop/CS 475/Consumer Sentiment Project/interest_rates_final.csv')\n",
    "back_up_df2 = interest_rates.copy()\n",
    "interest_rates.head(15)"
   ]
  },
  {
   "cell_type": "code",
   "execution_count": 409,
   "metadata": {},
   "outputs": [
    {
     "name": "stdout",
     "output_type": "stream",
     "text": [
      "<class 'pandas.core.frame.DataFrame'>\n",
      "RangeIndex: 512 entries, 0 to 511\n",
      "Data columns (total 10 columns):\n",
      "date              512 non-null object\n",
      "year              512 non-null int64\n",
      "month             512 non-null int64\n",
      "go_up             512 non-null int64\n",
      "stay_same         512 non-null int64\n",
      "go_down           512 non-null int64\n",
      "dk_na             512 non-null int64\n",
      "relative          512 non-null int64\n",
      "year.1            512 non-null int64\n",
      "fed_funds_rate    512 non-null float64\n",
      "dtypes: float64(1), int64(8), object(1)\n",
      "memory usage: 40.1+ KB\n"
     ]
    }
   ],
   "source": [
    "interest_rates.info()\n",
    "interest_rates['date'] = pd.to_datetime(interest_rates['date']) # changing full date column to Datetime object"
   ]
  },
  {
   "cell_type": "code",
   "execution_count": 410,
   "metadata": {},
   "outputs": [
    {
     "data": {
      "text/plain": [
       "(0.25, 14.0)"
      ]
     },
     "execution_count": 410,
     "metadata": {},
     "output_type": "execute_result"
    }
   ],
   "source": [
    "min_i, max_i = interest_rates['fed_funds_rate'].min(), interest_rates['fed_funds_rate'].max()\n",
    "min_i, max_i"
   ]
  },
  {
   "cell_type": "code",
   "execution_count": 411,
   "metadata": {},
   "outputs": [],
   "source": [
    "# EDA - unemployment rate (SURVEY)\n",
    "subset2 = interest_rates[interest_rates['date'] >='1999-01-01']\n",
    "subset2 = subset2[subset2['date'] <= '2000-01-01'].sort_values('fed_funds_rate', ascending=False)\n",
    "viz2_date = '1999-12-31'\n",
    "viz2_row = interest_rates.loc[interest_rates['date'] == viz2_date]\n",
    "\n",
    "subset3 = interest_rates[interest_rates['date'] >='2005-01-01']\n",
    "subset3 = subset3[subset3['date'] <= '2008-01-01'].sort_values('fed_funds_rate', ascending=False)\n",
    "viz3_date = '2006-02-28'\n",
    "viz3_row = interest_rates.loc[interest_rates['date'] == viz3_date]"
   ]
  },
  {
   "cell_type": "code",
   "execution_count": 412,
   "metadata": {},
   "outputs": [
    {
     "data": {
      "image/png": "[encoded data removed]",
      "text/plain": [
       "<Figure size 432x288 with 2 Axes>"
      ]
     },
     "metadata": {},
     "output_type": "display_data"
    }
   ],
   "source": [
    "fig, ax1 = plt.subplots()\n",
    "plt.title('Survey Responses (Increase) vs. Actual Federal Funds Rate')\n",
    "ax1.set_xlabel('Date')\n",
    "ax1.set_ylabel('Federal Funds Rate', c = 'black')\n",
    "ax1.plot('date', 'fed_funds_rate', data = interest_rates, c='black')\n",
    "\n",
    "ax1.plot(viz2_row['date'], viz2_row['fed_funds_rate'], marker = 'o', c='red')\n",
    "ax1.axvline(x=viz2_row['date'], c='red', ls='--')\n",
    "\n",
    "ax1.plot(viz3_row['date'], viz3_row['fed_funds_rate'], marker = 'o', c='red')\n",
    "ax1.axvline(x=viz3_row['date'], c='red', ls='--')\n",
    "\n",
    "ax2 = ax1.twinx()\n",
    "ax2.set_ylabel('Survery Responses (Increase)', c='purple')\n",
    "ax2.plot('date', 'go_up', data=interest_rates, c='purple')\n",
    "ax2.plot(viz2_row['date'], viz2_row['go_up'], marker = 'o', c='red')\n",
    "ax2.plot(viz3_row['date'], viz3_row['go_up'], marker = 'o', c='red')\n",
    "\n",
    "plt.show()"
   ]
  },
  {
   "cell_type": "markdown",
   "metadata": {},
   "source": [
    "The function below takes a given dataframe and specified numerical column and converts into a multiclass (3 class) category. This will be used for classifying the change in interest rates as positive, neutral/no change, or negative."
   ]
  },
  {
   "cell_type": "code",
   "execution_count": 413,
   "metadata": {},
   "outputs": [],
   "source": [
    "# calculating negative(-1), neutral(0) or positive(1) one month net change and applying as a categorical variable \n",
    "# this can be repeated for other columns that we want to look at as a categoery\n",
    "def pos_neut_neg_category(df, old_col_name, new_col_name):\n",
    "    '''\n",
    "    df: (Pandas DataFrame)\n",
    "    old_col_name: (name of numerical column to convert to multiclass (3) categories)\n",
    "    new_col_name: (name to be assigned to new column created)\n",
    "    '''\n",
    "    lst = [] \n",
    "    for value in df[old_col_name]:\n",
    "        if value < 0:\n",
    "            lst.append(-1)\n",
    "            \n",
    "        elif value == 0:\n",
    "            lst.append(0)\n",
    "            \n",
    "        else:\n",
    "            lst.append(1)\n",
    "            \n",
    "    df = pd.concat([df, pd.Series(lst, name=new_col_name)], axis=1)\n",
    "    df[new_col_name] = df[new_col_name].astype('category')\n",
    "    \n",
    "    return df"
   ]
  },
  {
   "cell_type": "code",
   "execution_count": 414,
   "metadata": {},
   "outputs": [
    {
     "name": "stdout",
     "output_type": "stream",
     "text": [
      "<class 'pandas.core.frame.DataFrame'>\n",
      "RangeIndex: 512 entries, 0 to 511\n",
      "Data columns (total 11 columns):\n",
      "date                    512 non-null datetime64[ns]\n",
      "year                    512 non-null int64\n",
      "month                   512 non-null int64\n",
      "go_up                   512 non-null int64\n",
      "stay_same               512 non-null int64\n",
      "go_down                 512 non-null int64\n",
      "dk_na                   512 non-null int64\n",
      "relative                512 non-null int64\n",
      "year.1                  512 non-null int64\n",
      "fed_funds_rate          512 non-null float64\n",
      "one_month_net_change    512 non-null float64\n",
      "dtypes: datetime64[ns](1), float64(2), int64(8)\n",
      "memory usage: 44.1 KB\n",
      "None\n"
     ]
    },
    {
     "data": {
      "text/html": [
       "<div>\n",
       "<style scoped>\n",
       "    .dataframe tbody tr th:only-of-type {\n",
       "        vertical-align: middle;\n",
       "    }\n",
       "\n",
       "    .dataframe tbody tr th {\n",
       "        vertical-align: top;\n",
       "    }\n",
       "\n",
       "    .dataframe thead th {\n",
       "        text-align: right;\n",
       "    }\n",
       "</style>\n",
       "<table border=\"1\" class=\"dataframe\">\n",
       "  <thead>\n",
       "    <tr style=\"text-align: right;\">\n",
       "      <th></th>\n",
       "      <th>date</th>\n",
       "      <th>year</th>\n",
       "      <th>month</th>\n",
       "      <th>go_up</th>\n",
       "      <th>stay_same</th>\n",
       "      <th>go_down</th>\n",
       "      <th>dk_na</th>\n",
       "      <th>relative</th>\n",
       "      <th>year.1</th>\n",
       "      <th>fed_funds_rate</th>\n",
       "      <th>one_month_net_change</th>\n",
       "      <th>OMNC_cat</th>\n",
       "    </tr>\n",
       "  </thead>\n",
       "  <tbody>\n",
       "    <tr>\n",
       "      <td>0</td>\n",
       "      <td>1978-01-31</td>\n",
       "      <td>1978</td>\n",
       "      <td>1</td>\n",
       "      <td>54</td>\n",
       "      <td>31</td>\n",
       "      <td>9</td>\n",
       "      <td>6</td>\n",
       "      <td>55</td>\n",
       "      <td>1979</td>\n",
       "      <td>9.50</td>\n",
       "      <td>0.00</td>\n",
       "      <td>0</td>\n",
       "    </tr>\n",
       "    <tr>\n",
       "      <td>1</td>\n",
       "      <td>1978-02-28</td>\n",
       "      <td>1978</td>\n",
       "      <td>2</td>\n",
       "      <td>48</td>\n",
       "      <td>32</td>\n",
       "      <td>6</td>\n",
       "      <td>14</td>\n",
       "      <td>58</td>\n",
       "      <td>1979</td>\n",
       "      <td>9.50</td>\n",
       "      <td>0.00</td>\n",
       "      <td>0</td>\n",
       "    </tr>\n",
       "    <tr>\n",
       "      <td>2</td>\n",
       "      <td>1978-03-31</td>\n",
       "      <td>1978</td>\n",
       "      <td>3</td>\n",
       "      <td>55</td>\n",
       "      <td>34</td>\n",
       "      <td>4</td>\n",
       "      <td>7</td>\n",
       "      <td>49</td>\n",
       "      <td>1979</td>\n",
       "      <td>9.50</td>\n",
       "      <td>0.00</td>\n",
       "      <td>0</td>\n",
       "    </tr>\n",
       "    <tr>\n",
       "      <td>3</td>\n",
       "      <td>1978-04-30</td>\n",
       "      <td>1978</td>\n",
       "      <td>4</td>\n",
       "      <td>61</td>\n",
       "      <td>29</td>\n",
       "      <td>4</td>\n",
       "      <td>6</td>\n",
       "      <td>43</td>\n",
       "      <td>1979</td>\n",
       "      <td>9.50</td>\n",
       "      <td>0.00</td>\n",
       "      <td>0</td>\n",
       "    </tr>\n",
       "    <tr>\n",
       "      <td>4</td>\n",
       "      <td>1978-05-31</td>\n",
       "      <td>1978</td>\n",
       "      <td>5</td>\n",
       "      <td>57</td>\n",
       "      <td>29</td>\n",
       "      <td>7</td>\n",
       "      <td>7</td>\n",
       "      <td>50</td>\n",
       "      <td>1979</td>\n",
       "      <td>9.50</td>\n",
       "      <td>0.00</td>\n",
       "      <td>0</td>\n",
       "    </tr>\n",
       "    <tr>\n",
       "      <td>5</td>\n",
       "      <td>1978-06-30</td>\n",
       "      <td>1978</td>\n",
       "      <td>6</td>\n",
       "      <td>64</td>\n",
       "      <td>28</td>\n",
       "      <td>5</td>\n",
       "      <td>3</td>\n",
       "      <td>41</td>\n",
       "      <td>1979</td>\n",
       "      <td>9.50</td>\n",
       "      <td>0.00</td>\n",
       "      <td>0</td>\n",
       "    </tr>\n",
       "    <tr>\n",
       "      <td>6</td>\n",
       "      <td>1978-07-31</td>\n",
       "      <td>1978</td>\n",
       "      <td>7</td>\n",
       "      <td>66</td>\n",
       "      <td>23</td>\n",
       "      <td>6</td>\n",
       "      <td>5</td>\n",
       "      <td>40</td>\n",
       "      <td>1979</td>\n",
       "      <td>9.69</td>\n",
       "      <td>-0.19</td>\n",
       "      <td>-1</td>\n",
       "    </tr>\n",
       "    <tr>\n",
       "      <td>7</td>\n",
       "      <td>1978-08-31</td>\n",
       "      <td>1978</td>\n",
       "      <td>8</td>\n",
       "      <td>59</td>\n",
       "      <td>26</td>\n",
       "      <td>9</td>\n",
       "      <td>6</td>\n",
       "      <td>50</td>\n",
       "      <td>1979</td>\n",
       "      <td>10.24</td>\n",
       "      <td>-0.55</td>\n",
       "      <td>-1</td>\n",
       "    </tr>\n",
       "    <tr>\n",
       "      <td>8</td>\n",
       "      <td>1978-09-30</td>\n",
       "      <td>1978</td>\n",
       "      <td>9</td>\n",
       "      <td>67</td>\n",
       "      <td>23</td>\n",
       "      <td>5</td>\n",
       "      <td>5</td>\n",
       "      <td>38</td>\n",
       "      <td>1979</td>\n",
       "      <td>10.70</td>\n",
       "      <td>-0.46</td>\n",
       "      <td>-1</td>\n",
       "    </tr>\n",
       "    <tr>\n",
       "      <td>9</td>\n",
       "      <td>1978-10-31</td>\n",
       "      <td>1978</td>\n",
       "      <td>10</td>\n",
       "      <td>63</td>\n",
       "      <td>26</td>\n",
       "      <td>6</td>\n",
       "      <td>5</td>\n",
       "      <td>43</td>\n",
       "      <td>1979</td>\n",
       "      <td>11.77</td>\n",
       "      <td>-1.07</td>\n",
       "      <td>-1</td>\n",
       "    </tr>\n",
       "    <tr>\n",
       "      <td>10</td>\n",
       "      <td>1978-11-30</td>\n",
       "      <td>1978</td>\n",
       "      <td>11</td>\n",
       "      <td>71</td>\n",
       "      <td>18</td>\n",
       "      <td>6</td>\n",
       "      <td>5</td>\n",
       "      <td>35</td>\n",
       "      <td>1979</td>\n",
       "      <td>12.00</td>\n",
       "      <td>-0.23</td>\n",
       "      <td>-1</td>\n",
       "    </tr>\n",
       "    <tr>\n",
       "      <td>11</td>\n",
       "      <td>1978-12-31</td>\n",
       "      <td>1978</td>\n",
       "      <td>12</td>\n",
       "      <td>67</td>\n",
       "      <td>21</td>\n",
       "      <td>6</td>\n",
       "      <td>6</td>\n",
       "      <td>39</td>\n",
       "      <td>1979</td>\n",
       "      <td>12.00</td>\n",
       "      <td>0.00</td>\n",
       "      <td>0</td>\n",
       "    </tr>\n",
       "    <tr>\n",
       "      <td>12</td>\n",
       "      <td>1979-01-31</td>\n",
       "      <td>1979</td>\n",
       "      <td>1</td>\n",
       "      <td>69</td>\n",
       "      <td>20</td>\n",
       "      <td>7</td>\n",
       "      <td>4</td>\n",
       "      <td>38</td>\n",
       "      <td>1980</td>\n",
       "      <td>12.00</td>\n",
       "      <td>0.00</td>\n",
       "      <td>0</td>\n",
       "    </tr>\n",
       "    <tr>\n",
       "      <td>13</td>\n",
       "      <td>1979-02-28</td>\n",
       "      <td>1979</td>\n",
       "      <td>2</td>\n",
       "      <td>54</td>\n",
       "      <td>27</td>\n",
       "      <td>13</td>\n",
       "      <td>6</td>\n",
       "      <td>59</td>\n",
       "      <td>1980</td>\n",
       "      <td>12.52</td>\n",
       "      <td>-0.52</td>\n",
       "      <td>-1</td>\n",
       "    </tr>\n",
       "    <tr>\n",
       "      <td>14</td>\n",
       "      <td>1979-03-31</td>\n",
       "      <td>1979</td>\n",
       "      <td>3</td>\n",
       "      <td>65</td>\n",
       "      <td>23</td>\n",
       "      <td>7</td>\n",
       "      <td>5</td>\n",
       "      <td>42</td>\n",
       "      <td>1980</td>\n",
       "      <td>13.00</td>\n",
       "      <td>-0.48</td>\n",
       "      <td>-1</td>\n",
       "    </tr>\n",
       "    <tr>\n",
       "      <td>15</td>\n",
       "      <td>1979-04-30</td>\n",
       "      <td>1979</td>\n",
       "      <td>4</td>\n",
       "      <td>64</td>\n",
       "      <td>24</td>\n",
       "      <td>8</td>\n",
       "      <td>4</td>\n",
       "      <td>44</td>\n",
       "      <td>1980</td>\n",
       "      <td>13.00</td>\n",
       "      <td>0.00</td>\n",
       "      <td>0</td>\n",
       "    </tr>\n",
       "    <tr>\n",
       "      <td>16</td>\n",
       "      <td>1979-05-31</td>\n",
       "      <td>1979</td>\n",
       "      <td>5</td>\n",
       "      <td>61</td>\n",
       "      <td>27</td>\n",
       "      <td>7</td>\n",
       "      <td>5</td>\n",
       "      <td>46</td>\n",
       "      <td>1980</td>\n",
       "      <td>12.94</td>\n",
       "      <td>0.06</td>\n",
       "      <td>1</td>\n",
       "    </tr>\n",
       "    <tr>\n",
       "      <td>17</td>\n",
       "      <td>1979-06-30</td>\n",
       "      <td>1979</td>\n",
       "      <td>6</td>\n",
       "      <td>66</td>\n",
       "      <td>22</td>\n",
       "      <td>8</td>\n",
       "      <td>4</td>\n",
       "      <td>42</td>\n",
       "      <td>1980</td>\n",
       "      <td>11.40</td>\n",
       "      <td>1.54</td>\n",
       "      <td>1</td>\n",
       "    </tr>\n",
       "    <tr>\n",
       "      <td>18</td>\n",
       "      <td>1979-07-31</td>\n",
       "      <td>1979</td>\n",
       "      <td>7</td>\n",
       "      <td>60</td>\n",
       "      <td>24</td>\n",
       "      <td>12</td>\n",
       "      <td>4</td>\n",
       "      <td>52</td>\n",
       "      <td>1980</td>\n",
       "      <td>10.87</td>\n",
       "      <td>0.53</td>\n",
       "      <td>1</td>\n",
       "    </tr>\n",
       "    <tr>\n",
       "      <td>19</td>\n",
       "      <td>1979-08-31</td>\n",
       "      <td>1979</td>\n",
       "      <td>8</td>\n",
       "      <td>61</td>\n",
       "      <td>26</td>\n",
       "      <td>8</td>\n",
       "      <td>5</td>\n",
       "      <td>47</td>\n",
       "      <td>1980</td>\n",
       "      <td>10.00</td>\n",
       "      <td>0.87</td>\n",
       "      <td>1</td>\n",
       "    </tr>\n",
       "    <tr>\n",
       "      <td>20</td>\n",
       "      <td>1979-09-30</td>\n",
       "      <td>1979</td>\n",
       "      <td>9</td>\n",
       "      <td>70</td>\n",
       "      <td>20</td>\n",
       "      <td>7</td>\n",
       "      <td>3</td>\n",
       "      <td>37</td>\n",
       "      <td>1980</td>\n",
       "      <td>10.17</td>\n",
       "      <td>-0.17</td>\n",
       "      <td>-1</td>\n",
       "    </tr>\n",
       "    <tr>\n",
       "      <td>21</td>\n",
       "      <td>1979-10-31</td>\n",
       "      <td>1979</td>\n",
       "      <td>10</td>\n",
       "      <td>70</td>\n",
       "      <td>20</td>\n",
       "      <td>7</td>\n",
       "      <td>3</td>\n",
       "      <td>37</td>\n",
       "      <td>1980</td>\n",
       "      <td>11.00</td>\n",
       "      <td>-0.83</td>\n",
       "      <td>-1</td>\n",
       "    </tr>\n",
       "    <tr>\n",
       "      <td>22</td>\n",
       "      <td>1979-11-30</td>\n",
       "      <td>1979</td>\n",
       "      <td>11</td>\n",
       "      <td>62</td>\n",
       "      <td>20</td>\n",
       "      <td>15</td>\n",
       "      <td>3</td>\n",
       "      <td>53</td>\n",
       "      <td>1980</td>\n",
       "      <td>11.47</td>\n",
       "      <td>-0.47</td>\n",
       "      <td>-1</td>\n",
       "    </tr>\n",
       "    <tr>\n",
       "      <td>23</td>\n",
       "      <td>1979-12-31</td>\n",
       "      <td>1979</td>\n",
       "      <td>12</td>\n",
       "      <td>40</td>\n",
       "      <td>22</td>\n",
       "      <td>34</td>\n",
       "      <td>4</td>\n",
       "      <td>94</td>\n",
       "      <td>1980</td>\n",
       "      <td>12.87</td>\n",
       "      <td>-1.40</td>\n",
       "      <td>-1</td>\n",
       "    </tr>\n",
       "    <tr>\n",
       "      <td>24</td>\n",
       "      <td>1980-01-31</td>\n",
       "      <td>1980</td>\n",
       "      <td>1</td>\n",
       "      <td>45</td>\n",
       "      <td>30</td>\n",
       "      <td>21</td>\n",
       "      <td>4</td>\n",
       "      <td>76</td>\n",
       "      <td>1981</td>\n",
       "      <td>13.00</td>\n",
       "      <td>-0.13</td>\n",
       "      <td>-1</td>\n",
       "    </tr>\n",
       "  </tbody>\n",
       "</table>\n",
       "</div>"
      ],
      "text/plain": [
       "         date  year  month  go_up  stay_same  go_down  dk_na  relative  \\\n",
       "0  1978-01-31  1978      1     54         31        9      6        55   \n",
       "1  1978-02-28  1978      2     48         32        6     14        58   \n",
       "2  1978-03-31  1978      3     55         34        4      7        49   \n",
       "3  1978-04-30  1978      4     61         29        4      6        43   \n",
       "4  1978-05-31  1978      5     57         29        7      7        50   \n",
       "5  1978-06-30  1978      6     64         28        5      3        41   \n",
       "6  1978-07-31  1978      7     66         23        6      5        40   \n",
       "7  1978-08-31  1978      8     59         26        9      6        50   \n",
       "8  1978-09-30  1978      9     67         23        5      5        38   \n",
       "9  1978-10-31  1978     10     63         26        6      5        43   \n",
       "10 1978-11-30  1978     11     71         18        6      5        35   \n",
       "11 1978-12-31  1978     12     67         21        6      6        39   \n",
       "12 1979-01-31  1979      1     69         20        7      4        38   \n",
       "13 1979-02-28  1979      2     54         27       13      6        59   \n",
       "14 1979-03-31  1979      3     65         23        7      5        42   \n",
       "15 1979-04-30  1979      4     64         24        8      4        44   \n",
       "16 1979-05-31  1979      5     61         27        7      5        46   \n",
       "17 1979-06-30  1979      6     66         22        8      4        42   \n",
       "18 1979-07-31  1979      7     60         24       12      4        52   \n",
       "19 1979-08-31  1979      8     61         26        8      5        47   \n",
       "20 1979-09-30  1979      9     70         20        7      3        37   \n",
       "21 1979-10-31  1979     10     70         20        7      3        37   \n",
       "22 1979-11-30  1979     11     62         20       15      3        53   \n",
       "23 1979-12-31  1979     12     40         22       34      4        94   \n",
       "24 1980-01-31  1980      1     45         30       21      4        76   \n",
       "\n",
       "    year.1  fed_funds_rate  one_month_net_change OMNC_cat  \n",
       "0     1979            9.50                  0.00        0  \n",
       "1     1979            9.50                  0.00        0  \n",
       "2     1979            9.50                  0.00        0  \n",
       "3     1979            9.50                  0.00        0  \n",
       "4     1979            9.50                  0.00        0  \n",
       "5     1979            9.50                  0.00        0  \n",
       "6     1979            9.69                 -0.19       -1  \n",
       "7     1979           10.24                 -0.55       -1  \n",
       "8     1979           10.70                 -0.46       -1  \n",
       "9     1979           11.77                 -1.07       -1  \n",
       "10    1979           12.00                 -0.23       -1  \n",
       "11    1979           12.00                  0.00        0  \n",
       "12    1980           12.00                  0.00        0  \n",
       "13    1980           12.52                 -0.52       -1  \n",
       "14    1980           13.00                 -0.48       -1  \n",
       "15    1980           13.00                  0.00        0  \n",
       "16    1980           12.94                  0.06        1  \n",
       "17    1980           11.40                  1.54        1  \n",
       "18    1980           10.87                  0.53        1  \n",
       "19    1980           10.00                  0.87        1  \n",
       "20    1980           10.17                 -0.17       -1  \n",
       "21    1980           11.00                 -0.83       -1  \n",
       "22    1980           11.47                 -0.47       -1  \n",
       "23    1980           12.87                 -1.40       -1  \n",
       "24    1981           13.00                 -0.13       -1  "
      ]
     },
     "execution_count": 414,
     "metadata": {},
     "output_type": "execute_result"
    }
   ],
   "source": [
    "# turning federal funds rate into one month change category\n",
    "new_col_list = []\n",
    "previous = 9.5\n",
    "for value in pd.Series(interest_rates['fed_funds_rate']):\n",
    "    new_col_list.append(previous - value)\n",
    "    previous = value\n",
    "    \n",
    "one_month_net_change = pd.Series(new_col_list, name='one_month_net_change')\n",
    "interest_rates = pd.concat([interest_rates, one_month_net_change], axis=1)\n",
    "print(interest_rates.info())\n",
    "\n",
    "interest_rates = pos_neut_neg_category(interest_rates, 'one_month_net_change', 'OMNC_cat')\n",
    "interest_rates.head(25)"
   ]
  },
  {
   "cell_type": "code",
   "execution_count": 415,
   "metadata": {},
   "outputs": [
    {
     "data": {
      "text/html": [
       "<div>\n",
       "<style scoped>\n",
       "    .dataframe tbody tr th:only-of-type {\n",
       "        vertical-align: middle;\n",
       "    }\n",
       "\n",
       "    .dataframe tbody tr th {\n",
       "        vertical-align: top;\n",
       "    }\n",
       "\n",
       "    .dataframe thead th {\n",
       "        text-align: right;\n",
       "    }\n",
       "</style>\n",
       "<table border=\"1\" class=\"dataframe\">\n",
       "  <thead>\n",
       "    <tr style=\"text-align: right;\">\n",
       "      <th></th>\n",
       "      <th>date</th>\n",
       "      <th>year</th>\n",
       "      <th>month</th>\n",
       "      <th>go_up</th>\n",
       "      <th>stay_same</th>\n",
       "      <th>go_down</th>\n",
       "      <th>dk_na</th>\n",
       "      <th>relative</th>\n",
       "      <th>year.1</th>\n",
       "      <th>fed_funds_rate</th>\n",
       "      <th>one_month_net_change</th>\n",
       "      <th>OMNC_cat</th>\n",
       "    </tr>\n",
       "  </thead>\n",
       "  <tbody>\n",
       "    <tr>\n",
       "      <td>12</td>\n",
       "      <td>1979-01-31</td>\n",
       "      <td>1979</td>\n",
       "      <td>1</td>\n",
       "      <td>69</td>\n",
       "      <td>20</td>\n",
       "      <td>7</td>\n",
       "      <td>4</td>\n",
       "      <td>38</td>\n",
       "      <td>1980</td>\n",
       "      <td>12.00</td>\n",
       "      <td>0.00</td>\n",
       "      <td>0</td>\n",
       "    </tr>\n",
       "    <tr>\n",
       "      <td>13</td>\n",
       "      <td>1979-02-28</td>\n",
       "      <td>1979</td>\n",
       "      <td>2</td>\n",
       "      <td>54</td>\n",
       "      <td>27</td>\n",
       "      <td>13</td>\n",
       "      <td>6</td>\n",
       "      <td>59</td>\n",
       "      <td>1980</td>\n",
       "      <td>12.52</td>\n",
       "      <td>-0.52</td>\n",
       "      <td>-1</td>\n",
       "    </tr>\n",
       "    <tr>\n",
       "      <td>14</td>\n",
       "      <td>1979-03-31</td>\n",
       "      <td>1979</td>\n",
       "      <td>3</td>\n",
       "      <td>65</td>\n",
       "      <td>23</td>\n",
       "      <td>7</td>\n",
       "      <td>5</td>\n",
       "      <td>42</td>\n",
       "      <td>1980</td>\n",
       "      <td>13.00</td>\n",
       "      <td>-0.48</td>\n",
       "      <td>-1</td>\n",
       "    </tr>\n",
       "    <tr>\n",
       "      <td>15</td>\n",
       "      <td>1979-04-30</td>\n",
       "      <td>1979</td>\n",
       "      <td>4</td>\n",
       "      <td>64</td>\n",
       "      <td>24</td>\n",
       "      <td>8</td>\n",
       "      <td>4</td>\n",
       "      <td>44</td>\n",
       "      <td>1980</td>\n",
       "      <td>13.00</td>\n",
       "      <td>0.00</td>\n",
       "      <td>0</td>\n",
       "    </tr>\n",
       "    <tr>\n",
       "      <td>16</td>\n",
       "      <td>1979-05-31</td>\n",
       "      <td>1979</td>\n",
       "      <td>5</td>\n",
       "      <td>61</td>\n",
       "      <td>27</td>\n",
       "      <td>7</td>\n",
       "      <td>5</td>\n",
       "      <td>46</td>\n",
       "      <td>1980</td>\n",
       "      <td>12.94</td>\n",
       "      <td>0.06</td>\n",
       "      <td>1</td>\n",
       "    </tr>\n",
       "  </tbody>\n",
       "</table>\n",
       "</div>"
      ],
      "text/plain": [
       "         date  year  month  go_up  stay_same  go_down  dk_na  relative  \\\n",
       "12 1979-01-31  1979      1     69         20        7      4        38   \n",
       "13 1979-02-28  1979      2     54         27       13      6        59   \n",
       "14 1979-03-31  1979      3     65         23        7      5        42   \n",
       "15 1979-04-30  1979      4     64         24        8      4        44   \n",
       "16 1979-05-31  1979      5     61         27        7      5        46   \n",
       "\n",
       "    year.1  fed_funds_rate  one_month_net_change OMNC_cat  \n",
       "12    1980           12.00                  0.00        0  \n",
       "13    1980           12.52                 -0.52       -1  \n",
       "14    1980           13.00                 -0.48       -1  \n",
       "15    1980           13.00                  0.00        0  \n",
       "16    1980           12.94                  0.06        1  "
      ]
     },
     "execution_count": 415,
     "metadata": {},
     "output_type": "execute_result"
    }
   ],
   "source": [
    "interest_rates.iloc[12:17]"
   ]
  },
  {
   "cell_type": "code",
   "execution_count": 416,
   "metadata": {},
   "outputs": [
    {
     "name": "stdout",
     "output_type": "stream",
     "text": [
      "Column Variances:\n",
      "go_up        229.262380\n",
      "stay_same     77.100779\n",
      "go_down      119.998223\n",
      "dk_na          1.955353\n",
      "relative     619.770758\n",
      "dtype: float64\n"
     ]
    }
   ],
   "source": [
    "X = interest_rates.loc[:, ['go_up', 'stay_same', 'go_down', 'dk_na', 'relative']]\n",
    "print(f'Column Variances:\\n{X.var()}') # looking at variances, do we need to impose a standard scale?\n",
    "\n",
    "y = interest_rates['OMNC_cat'].to_numpy()\n",
    "X = X.to_numpy() "
   ]
  },
  {
   "cell_type": "markdown",
   "metadata": {},
   "source": [
    "Initializing a 80/20 training/testing split and exploring various classification algorithms."
   ]
  },
  {
   "cell_type": "code",
   "execution_count": 417,
   "metadata": {},
   "outputs": [],
   "source": [
    "X_train, X_test, y_train, y_test = train_test_split(X, y, test_size = 0.2, shuffle=True, stratify=y, random_state = 20)"
   ]
  },
  {
   "cell_type": "code",
   "execution_count": 418,
   "metadata": {},
   "outputs": [
    {
     "name": "stdout",
     "output_type": "stream",
     "text": [
      "Training Score: 0.4889975550122249\n"
     ]
    },
    {
     "data": {
      "text/plain": [
       "0.5533980582524272"
      ]
     },
     "execution_count": 418,
     "metadata": {},
     "output_type": "execute_result"
    }
   ],
   "source": [
    "# linear SVM\n",
    "scaler = StandardScaler()\n",
    "lin_svm_clf = SVC(kernel='linear', C=100, class_weight = 'balanced')\n",
    "\n",
    "scaled_svc = Pipeline([('scaler', scaler), ('linear_svc', lin_svm_clf)])\n",
    "scaled_svc.fit(X_train, y_train)\n",
    "training_SVM_pred = scaled_svc.predict(X_train)\n",
    "SVM_y_pred = scaled_svc.predict(X_test)\n",
    "training_score = scaled_svc.score(X_train, y_train)\n",
    "print(f'Training Score: {training_score}')\n",
    "SVM_score = lin_svm_clf.score(X_test, y_test)\n",
    "SVM_score"
   ]
  },
  {
   "cell_type": "code",
   "execution_count": 419,
   "metadata": {},
   "outputs": [
    {
     "name": "stdout",
     "output_type": "stream",
     "text": [
      "Accuracy score: 0.4854368932038835\n"
     ]
    }
   ],
   "source": [
    "# LogisiticRegression\n",
    "logreg = LogisticRegression(multi_class='multinomial', solver='lbfgs', class_weight='balanced')\n",
    "logreg.fit(X_train, y_train)\n",
    "log_y_pred = logreg.predict(X_test)\n",
    "log_acc_score = logreg.score(X_test, y_test)\n",
    "print(f'Accuracy score: {log_acc_score}')\n",
    "y_pred_proba = logreg.predict_proba(X_test)[:,1]"
   ]
  },
  {
   "cell_type": "code",
   "execution_count": 420,
   "metadata": {},
   "outputs": [
    {
     "name": "stdout",
     "output_type": "stream",
     "text": [
      "0.36893203883495146\n"
     ]
    }
   ],
   "source": [
    "# Decision Trees Classifier\n",
    "dt_clf = DecisionTreeClassifier(criterion='entropy', max_depth = 5, random_state=21, class_weight='balanced')\n",
    "dt_clf.fit(X_train, y_train)\n",
    "print(dt_clf.score(X_test, y_test))\n",
    "dt_y_pred = dt_clf.predict(X_test)"
   ]
  },
  {
   "cell_type": "markdown",
   "metadata": {},
   "source": [
    "Exploring potential ensemble methods for classification purposes."
   ]
  },
  {
   "cell_type": "code",
   "execution_count": 421,
   "metadata": {},
   "outputs": [
    {
     "data": {
      "text/plain": [
       "0.47572815533980584"
      ]
     },
     "execution_count": 421,
     "metadata": {},
     "output_type": "execute_result"
    }
   ],
   "source": [
    "# Voting Classifier with below models... is this good in multiclass setting? probably not as effective \n",
    "estimators=[('LogisitcRegression', logreg), ('Scaled_SVM', scaled_svc), ('DecisionTree', dt_clf)]\n",
    "lin_vc = VotingClassifier(estimators=estimators)\n",
    "lin_vc.fit(X_train, y_train)\n",
    "lin_vc.score(X_test,y_test)"
   ]
  },
  {
   "cell_type": "code",
   "execution_count": 422,
   "metadata": {},
   "outputs": [
    {
     "data": {
      "text/plain": [
       "0.47572815533980584"
      ]
     },
     "execution_count": 422,
     "metadata": {},
     "output_type": "execute_result"
    }
   ],
   "source": [
    "#BaggingClassifier for linear SVM\n",
    "bag = BaggingClassifier(scaled_svc, n_estimators=5, n_jobs=-1)\n",
    "bag.fit(X_train, y_train)\n",
    "bag.score(X_test, y_test)"
   ]
  },
  {
   "cell_type": "markdown",
   "metadata": {},
   "source": [
    "Visualizing model classification performance."
   ]
  },
  {
   "cell_type": "code",
   "execution_count": 423,
   "metadata": {},
   "outputs": [
    {
     "name": "stdout",
     "output_type": "stream",
     "text": [
      "[[ 5  5  3]\n",
      " [26 41  9]\n",
      " [ 9  2  3]]\n",
      "              precision    recall  f1-score   support\n",
      "\n",
      "          -1       0.12      0.38      0.19        13\n",
      "           0       0.85      0.54      0.66        76\n",
      "           1       0.20      0.21      0.21        14\n",
      "\n",
      "    accuracy                           0.48       103\n",
      "   macro avg       0.39      0.38      0.35       103\n",
      "weighted avg       0.67      0.48      0.54       103\n",
      "\n"
     ]
    },
    {
     "data": {
      "image/png": "[encoded data removed]",
      "text/plain": [
       "<Figure size 432x288 with 2 Axes>"
      ]
     },
     "metadata": {},
     "output_type": "display_data"
    }
   ],
   "source": [
    "# visualizing Linear SVM confusion matrix heatmap\n",
    "cm_2 = confusion_matrix(y_test, SVM_y_pred)\n",
    "class_report2 = classification_report(y_test, SVM_y_pred)\n",
    "print(cm_2)\n",
    "print(class_report2)\n",
    "cm_2_df = pd.DataFrame(cm_2, index = [-1,0,1], columns =[-1,0,1])\n",
    "\n",
    "sns.heatmap(cm_2_df, annot=True, cmap='Blues_r')\n",
    "plt.ylim([3,-0.5])\n",
    "plt.xlabel('Actual Label', fontsize=13)\n",
    "plt.ylabel('Predicted Label', fontsize=13)\n",
    "plt.title('Confusion Matrix', fontsize=17)\n",
    "plt.show()"
   ]
  },
  {
   "cell_type": "markdown",
   "metadata": {},
   "source": [
    "### Anamoly/Outlier Detection (Interest Rates) - OneClassSVM"
   ]
  },
  {
   "cell_type": "code",
   "execution_count": 424,
   "metadata": {},
   "outputs": [
    {
     "name": "stderr",
     "output_type": "stream",
     "text": [
      "/opt/anaconda3/lib/python3.7/site-packages/sklearn/svm/classes.py:1194: DeprecationWarning: The random_state parameter is deprecated and will be removed in version 0.22.\n",
      "  \" be removed in version 0.22.\", DeprecationWarning)\n"
     ]
    },
    {
     "data": {
      "text/plain": [
       "OneClassSVM(cache_size=200, coef0=0.0, degree=3, gamma=0.001, kernel='rbf',\n",
       "            max_iter=-1, nu=0.03, random_state=21, shrinking=True, tol=0.001,\n",
       "            verbose=False)"
      ]
     },
     "execution_count": 424,
     "metadata": {},
     "output_type": "execute_result"
    }
   ],
   "source": [
    "# anamoly detection using OneClassSVM - interest rates \n",
    "cols = ['go_up', 'stay_same', 'go_down', 'dk_na', 'relative']\n",
    "an_detec = OneClassSVM(kernel = 'rbf', gamma = 0.001, nu = 0.03, random_state=21) # percentage to consider outliers\n",
    "an_detec.fit(interest_rates[cols])"
   ]
  },
  {
   "cell_type": "code",
   "execution_count": 425,
   "metadata": {},
   "outputs": [
    {
     "name": "stdout",
     "output_type": "stream",
     "text": [
      "4.459687499999999\n",
      "16\n"
     ]
    }
   ],
   "source": [
    "y_pred = an_detec.predict(interest_rates[cols])\n",
    "print(interest_rates['fed_funds_rate'].mean())\n",
    "\n",
    "# filter outlier index\n",
    "outlier_index = np.where(y_pred == -1) \n",
    "# filter outlier values\n",
    "outlier_rows = interest_rates.iloc[outlier_index]\n",
    "print(len(outlier_rows))\n",
    "outlier_rows.head()\n",
    "\n",
    "oneclass_outliers = outlier_rows.values"
   ]
  },
  {
   "cell_type": "code",
   "execution_count": 426,
   "metadata": {},
   "outputs": [
    {
     "data": {
      "image/png": "[encoded data removed]",
      "text/plain": [
       "<Figure size 432x288 with 1 Axes>"
      ]
     },
     "metadata": {},
     "output_type": "display_data"
    }
   ],
   "source": [
    "# visulalizing outliers: 1) 2D plot of survery counts, 2) distribution of outliers subset \n",
    "#plt.set_style.context(style = 'seaborn-darkgrid') # figure this out\n",
    "#sns.set_theme('darkgrid')\n",
    "plt.scatter(x = 'go_up', y ='go_down', data = interest_rates, c='black', alpha=0.5)\n",
    "plt.scatter(x = 'go_up', y = 'go_down', data = outlier_rows, c='red')\n",
    "plt.title('Anamoly Detection - OneClassSVM', fontsize=17)\n",
    "plt.xlabel('Increase, go_up', fontsize=13)\n",
    "plt.ylabel('Decrease, go_down', fontsize=13)\n",
    "\n",
    "plt.show()"
   ]
  },
  {
   "cell_type": "code",
   "execution_count": 427,
   "metadata": {},
   "outputs": [
    {
     "data": {
      "image/png": "[encoded data removed]",
      "text/plain": [
       "<Figure size 432x288 with 1 Axes>"
      ]
     },
     "metadata": {},
     "output_type": "display_data"
    }
   ],
   "source": [
    "# 2) distribution of outliers\n",
    "mu = interest_rates['fed_funds_rate'].mean()\n",
    "med = interest_rates['fed_funds_rate'].quantile(0.5)\n",
    "\n",
    "plt.hist('fed_funds_rate', data=interest_rates, bins=25, label='Full dataset', color='darkgray')\n",
    "plt.hist('fed_funds_rate', data=outlier_rows, bins=25, label='Outlier subset', color='r')\n",
    "plt.axvline(x=mu, ls='--', c='r', label=f'mu = {np.round(mu,2)}')\n",
    "plt.axvline(x=med, ls='--', c='purple', label = f'med = {np.round(med,2)}')\n",
    "\n",
    "plt.ylim(0,70)\n",
    "\n",
    "plt.legend(fontsize=13, loc='best')\n",
    "plt.title('Outlier Distribution Comparison', fontsize=17)\n",
    "plt.ylabel('Frequency', fontsize=13)\n",
    "plt.xlabel('Federal Funds Rate', fontsize=13)\n",
    "plt.show()\n"
   ]
  },
  {
   "cell_type": "markdown",
   "metadata": {},
   "source": [
    "### Anamoly/Outlier Detection (Interest Rates) - KMeans Clustering"
   ]
  },
  {
   "cell_type": "code",
   "execution_count": 428,
   "metadata": {},
   "outputs": [
    {
     "data": {
      "text/plain": [
       "KMeans(algorithm='auto', copy_x=True, init='k-means++', max_iter=300,\n",
       "       n_clusters=5, n_init=10, n_jobs=None, precompute_distances='auto',\n",
       "       random_state=None, tol=0.0001, verbose=0)"
      ]
     },
     "execution_count": 428,
     "metadata": {},
     "output_type": "execute_result"
    }
   ],
   "source": [
    "# anomaly detection using clustering model (KMeans)\n",
    "kmeans = KMeans(n_clusters = 5)\n",
    "kmeans.fit(interest_rates[cols])"
   ]
  },
  {
   "cell_type": "markdown",
   "metadata": {},
   "source": [
    "Cluster selection using inertia and silouhette score as decision metrics."
   ]
  },
  {
   "cell_type": "code",
   "execution_count": 429,
   "metadata": {},
   "outputs": [
    {
     "data": {
      "text/plain": [
       "Text(4.5, 70000, 'Elbow')"
      ]
     },
     "execution_count": 429,
     "metadata": {},
     "output_type": "execute_result"
    },
    {
     "data": {
      "image/png": "[encoded data removed]",
      "text/plain": [
       "<Figure size 432x288 with 1 Axes>"
      ]
     },
     "metadata": {},
     "output_type": "display_data"
    }
   ],
   "source": [
    "# finding the number of clusters to use in our KMeans clustering model \n",
    "numb_clusters = np.arange(2,11).astype(int)\n",
    "inertias = []\n",
    "sil_scores = []\n",
    "for k in numb_clusters:\n",
    "    kmeans = KMeans(n_clusters=k)\n",
    "    kmeans.fit(interest_rates[cols])\n",
    "    \n",
    "    inertias.append(kmeans.inertia_)\n",
    "    sil_scores.append(silhouette_score(interest_rates[cols], kmeans.labels_))\n",
    "\n",
    "plt.plot(numb_clusters, inertias, marker = 'o')\n",
    "plt.xlabel('Number of Clusters', fontsize=13)\n",
    "plt.ylabel('Inertia', fontsize=13)\n",
    "plt.title('Cluster Selection: Inertia', fontsize=17) \n",
    "plt.text(x = 4.5, y = 70000, s='Elbow', fontsize=16)"
   ]
  },
  {
   "cell_type": "code",
   "execution_count": 430,
   "metadata": {},
   "outputs": [
    {
     "data": {
      "text/plain": [
       "Text(0.5, 1.0, 'Cluster Selection: Silouhette Score')"
      ]
     },
     "execution_count": 430,
     "metadata": {},
     "output_type": "execute_result"
    },
    {
     "data": {
      "image/png": "[encoded data removed]",
      "text/plain": [
       "<Figure size 432x288 with 1 Axes>"
      ]
     },
     "metadata": {},
     "output_type": "display_data"
    }
   ],
   "source": [
    "plt.plot(numb_clusters, sil_scores, marker = 'o')\n",
    "plt.xlabel('Number of Clusters', fontsize=13)\n",
    "plt.ylabel('Silouhette Score', fontsize=13)\n",
    "plt.title('Cluster Selection: Silouhette Score', fontsize=17) # without above graph, looks like k=4"
   ]
  },
  {
   "cell_type": "markdown",
   "metadata": {},
   "source": [
    "Fitting a KMeans clustering algorithm with k=4 to identlfy potential outliers (instances with a euclidean distance to it's clusters centroid being in the 97th percentile, larger than 97 percent of the total instances)."
   ]
  },
  {
   "cell_type": "code",
   "execution_count": 431,
   "metadata": {},
   "outputs": [],
   "source": [
    "X = interest_rates[cols].values\n",
    "an_model = KMeans(n_clusters = 4)\n",
    "clusters = an_model.fit_predict(X)"
   ]
  },
  {
   "cell_type": "code",
   "execution_count": 432,
   "metadata": {},
   "outputs": [],
   "source": [
    "centroids = an_model.cluster_centers_\n",
    "points = np.empty((0,len(X[0])), float)\n",
    "distances = np.empty((0,len(X[0])), float)\n",
    "\n",
    "for i,v in enumerate(centroids):\n",
    "    distances = np.append(distances, cdist([v], X[clusters == i], 'euclidean')) \n",
    "    points = np.append(points, X[clusters == i], axis=0)\n",
    "\n",
    "percentile = 97\n",
    "outliers = X[np.where(distances > np.percentile(distances, [percentile]))]"
   ]
  },
  {
   "cell_type": "code",
   "execution_count": 435,
   "metadata": {},
   "outputs": [
    {
     "name": "stdout",
     "output_type": "stream",
     "text": [
      "Kmeans: \n",
      "[[ 30  38  30   2 100]\n",
      " [ 34  31  32   3  98]\n",
      " [ 40  37  21   2  81]\n",
      " [ 47  35  15   3  68]\n",
      " [ 54  34  11   1  57]\n",
      " [ 41  42  15   2  74]\n",
      " [ 40  42  16   2  76]\n",
      " [ 77  16   5   2  28]\n",
      " [ 64  23  12   1  48]\n",
      " [ 54  34  11   1  57]\n",
      " [ 77  17   4   2  28]\n",
      " [ 75  20   4   1  29]\n",
      " [ 77  18   4   1  27]\n",
      " [ 74  21   3   2  29]\n",
      " [ 63  29   7   1  44]\n",
      " [ 31  44  23   2  92]]\n",
      "\n",
      "OneClassSVM: \n",
      "[[Timestamp('1979-12-31 00:00:00') 1979 12 40 22 34 4 94 1980 12.87\n",
      "  -1.3999999999999986 -1]\n",
      " [Timestamp('1980-04-30 00:00:00') 1980 4 56 18 24 2 68 1981 13.0 0.0 0]\n",
      " [Timestamp('1980-05-31 00:00:00') 1980 5 26 20 52 2 126 1981 13.87\n",
      "  -0.8699999999999992 -1]\n",
      " [Timestamp('1980-06-30 00:00:00') 1980 6 21 22 54 3 133 1981 14.0\n",
      "  -0.13000000000000078 -1]\n",
      " [Timestamp('1980-12-31 00:00:00') 1980 12 53 14 29 4 76 1981 12.1\n",
      "  0.9299999999999997 1]\n",
      " [Timestamp('1981-12-31 00:00:00') 1981 12 21 25 50 4 129 1982 8.73\n",
      "  0.6199999999999992 1]\n",
      " [Timestamp('1983-01-31 00:00:00') 1983 1 18 35 44 3 126 1984 8.5 0.0 0]\n",
      " [Timestamp('1983-04-30 00:00:00') 1983 4 21 42 34 3 113 1984 8.87\n",
      "  -0.3699999999999992 -1]\n",
      " [Timestamp('1983-05-31 00:00:00') 1983 5 20 47 31 2 111 1984 9.0\n",
      "  -0.13000000000000078 -1]\n",
      " [Timestamp('1994-12-31 00:00:00') 1994 12 81 12 6 1 25 1995 5.25 0.0 0]\n",
      " [Timestamp('2001-01-31 00:00:00') 2001 1 38 19 40 3 102 2002 1.25\n",
      "  0.08000000000000007 1]\n",
      " [Timestamp('2004-05-31 00:00:00') 2004 5 85 11 3 1 18 2005 4.0 -0.25 -1]\n",
      " [Timestamp('2012-02-29 00:00:00') 2012 2 32 56 10 2 78 2013 0.75 0.0 0]\n",
      " [Timestamp('2012-03-31 00:00:00') 2012 3 34 57 7 2 73 2013 0.75 0.0 0]\n",
      " [Timestamp('2014-03-31 00:00:00') 2014 3 58 37 4 1 46 2015 0.75 0.0 0]\n",
      " [Timestamp('2014-05-31 00:00:00') 2014 5 63 32 3 2 40 2015 0.75 0.0 0]]\n"
     ]
    }
   ],
   "source": [
    "print(f'Kmeans: \\n{outliers}\\n')\n",
    "print(f'OneClassSVM: \\n{oneclass_outliers}')"
   ]
  },
  {
   "cell_type": "code",
   "execution_count": 434,
   "metadata": {},
   "outputs": [
    {
     "data": {
      "image/png": "[encoded data removed]",
      "text/plain": [
       "<Figure size 432x288 with 1 Axes>"
      ]
     },
     "metadata": {},
     "output_type": "display_data"
    }
   ],
   "source": [
    "# visulalizing outliers: 1) 2D plot of survery counts, 2) distribution of outliers subset \n",
    "#plt.set_style.context(style = 'seaborn-darkgrid') # figure this out\n",
    "plt.scatter(x = 'go_up', y ='go_down', data = interest_rates, c='black', alpha=0.5)\n",
    "plt.scatter(outliers[:,0], y = outliers[:,2], c='red')\n",
    "plt.title('Anamoly Detection - KMeans', fontsize=17)\n",
    "plt.xlabel('Increase, go_up', fontsize=13)\n",
    "plt.ylabel('Decrease, go_down', fontsize=13)\n",
    "\n",
    "plt.show()"
   ]
  }
 ],
 "metadata": {
  "kernelspec": {
   "display_name": "Python 3",
   "language": "python",
   "name": "python3"
  },
  "language_info": {
   "codemirror_mode": {
    "name": "ipython",
    "version": 3
   },
   "file_extension": ".py",
   "mimetype": "text/x-python",
   "name": "python",
   "nbconvert_exporter": "python",
   "pygments_lexer": "ipython3",
   "version": "3.7.4"
  }
 },
 "nbformat": 4,
 "nbformat_minor": 2
}
